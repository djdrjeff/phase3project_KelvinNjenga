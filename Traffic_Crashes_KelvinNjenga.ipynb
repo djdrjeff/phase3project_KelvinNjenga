{
  "cells": [
    {
      "cell_type": "code",
      "execution_count": 1,
      "metadata": {
        "id": "woYTTz1mtxOa"
      },
      "outputs": [],
      "source": [
        "# Step 1: Import necessary libraries\n",
        "import pandas as pd\n",
        "import numpy as np\n",
        "import matplotlib.pyplot as plt\n",
        "import seaborn as sns\n",
        "import pickle, sklearn\n",
        "from sklearn.model_selection import train_test_split\n",
        "from sklearn.preprocessing import StandardScaler\n",
        "from sklearn.compose import ColumnTransformer\n",
        "from sklearn.pipeline import Pipeline\n",
        "from sklearn.impute import SimpleImputer\n",
        "from sklearn.tree import DecisionTreeClassifier\n",
        "from sklearn.ensemble import RandomForestClassifier, GradientBoostingClassifier\n",
        "from sklearn.linear_model import LogisticRegression\n",
        "from sklearn.metrics import accuracy_score, roc_curve, roc_auc_score\n",
        "from numbers import Number"
      ]
    },
    {
      "cell_type": "code",
      "execution_count": 2,
      "metadata": {
        "colab": {
          "base_uri": "https://localhost:8080/"
        },
        "id": "Qu87TIQ2txOc",
        "outputId": "c7b52415-88d2-4f3c-907e-36e49c6c76dc"
      },
      "outputs": [
        {
          "output_type": "stream",
          "name": "stdout",
          "text": [
            "                                     CRASH_RECORD_ID CRASH_DATE_EST_I  \\\n",
            "0  23a79931ef555d54118f64dc9be2cf2dbf59636ce253f7...              NaN   \n",
            "1  2675c13fd0f474d730a5b780968b3cafc7c12d7adb661f...              NaN   \n",
            "2  5f54a59fcb087b12ae5b1acff96a3caf4f2d37e79f8db4...              NaN   \n",
            "3  7ebf015016f83d09b321afd671a836d6b148330535d5df...              NaN   \n",
            "4  6c1659069e9c6285a650e70d6f9b574ed5f64c12888479...              NaN   \n",
            "\n",
            "               CRASH_DATE  POSTED_SPEED_LIMIT TRAFFIC_CONTROL_DEVICE  \\\n",
            "0  09/05/2023 07:05:00 PM                  30         TRAFFIC SIGNAL   \n",
            "1  09/22/2023 06:45:00 PM                  50            NO CONTROLS   \n",
            "2  07/29/2023 02:45:00 PM                  30         TRAFFIC SIGNAL   \n",
            "3  08/09/2023 11:00:00 PM                  30            NO CONTROLS   \n",
            "4  08/18/2023 12:50:00 PM                  15                  OTHER   \n",
            "\n",
            "       DEVICE_CONDITION WEATHER_CONDITION      LIGHTING_CONDITION  \\\n",
            "0  FUNCTIONING PROPERLY             CLEAR                    DUSK   \n",
            "1           NO CONTROLS             CLEAR  DARKNESS, LIGHTED ROAD   \n",
            "2  FUNCTIONING PROPERLY             CLEAR                DAYLIGHT   \n",
            "3           NO CONTROLS             CLEAR  DARKNESS, LIGHTED ROAD   \n",
            "4  FUNCTIONING PROPERLY             CLEAR                DAYLIGHT   \n",
            "\n",
            "           FIRST_CRASH_TYPE                  TRAFFICWAY_TYPE  ...  \\\n",
            "0                     ANGLE              FIVE POINT, OR MORE  ...   \n",
            "1                  REAR END       DIVIDED - W/MEDIAN BARRIER  ...   \n",
            "2      PARKED MOTOR VEHICLE  DIVIDED - W/MEDIAN (NOT RAISED)  ...   \n",
            "3  SIDESWIPE SAME DIRECTION                      NOT DIVIDED  ...   \n",
            "4                  REAR END                            OTHER  ...   \n",
            "\n",
            "   INJURIES_NON_INCAPACITATING INJURIES_REPORTED_NOT_EVIDENT  \\\n",
            "0                          2.0                           0.0   \n",
            "1                          0.0                           0.0   \n",
            "2                          0.0                           0.0   \n",
            "3                          0.0                           0.0   \n",
            "4                          1.0                           0.0   \n",
            "\n",
            "  INJURIES_NO_INDICATION INJURIES_UNKNOWN CRASH_HOUR CRASH_DAY_OF_WEEK  \\\n",
            "0                    2.0              0.0       19.0               3.0   \n",
            "1                    2.0              0.0       18.0               6.0   \n",
            "2                    1.0              0.0       14.0               7.0   \n",
            "3                    2.0              0.0       23.0               4.0   \n",
            "4                    1.0              0.0       12.0               6.0   \n",
            "\n",
            "  CRASH_MONTH  LATITUDE  LONGITUDE                                  LOCATION  \n",
            "0         9.0       NaN        NaN                                       NaN  \n",
            "1         9.0       NaN        NaN                                       NaN  \n",
            "2         7.0  41.85412 -87.665902  POINT (-87.665902342962 41.854120262952)  \n",
            "3         8.0       NaN        NaN                                       NaN  \n",
            "4         8.0       NaN        NaN                                       NaN  \n",
            "\n",
            "[5 rows x 48 columns]\n",
            "<class 'pandas.core.frame.DataFrame'>\n",
            "RangeIndex: 31948 entries, 0 to 31947\n",
            "Data columns (total 48 columns):\n",
            " #   Column                         Non-Null Count  Dtype  \n",
            "---  ------                         --------------  -----  \n",
            " 0   CRASH_RECORD_ID                31948 non-null  object \n",
            " 1   CRASH_DATE_EST_I               2186 non-null   object \n",
            " 2   CRASH_DATE                     31948 non-null  object \n",
            " 3   POSTED_SPEED_LIMIT             31948 non-null  int64  \n",
            " 4   TRAFFIC_CONTROL_DEVICE         31948 non-null  object \n",
            " 5   DEVICE_CONDITION               31948 non-null  object \n",
            " 6   WEATHER_CONDITION              31948 non-null  object \n",
            " 7   LIGHTING_CONDITION             31948 non-null  object \n",
            " 8   FIRST_CRASH_TYPE               31948 non-null  object \n",
            " 9   TRAFFICWAY_TYPE                31948 non-null  object \n",
            " 10  LANE_CNT                       6413 non-null   float64\n",
            " 11  ALIGNMENT                      31948 non-null  object \n",
            " 12  ROADWAY_SURFACE_COND           31948 non-null  object \n",
            " 13  ROAD_DEFECT                    31948 non-null  object \n",
            " 14  REPORT_TYPE                    30970 non-null  object \n",
            " 15  CRASH_TYPE                     31948 non-null  object \n",
            " 16  INTERSECTION_RELATED_I         6718 non-null   object \n",
            " 17  NOT_RIGHT_OF_WAY_I             1602 non-null   object \n",
            " 18  HIT_AND_RUN_I                  9070 non-null   object \n",
            " 19  DAMAGE                         31948 non-null  object \n",
            " 20  DATE_POLICE_NOTIFIED           31948 non-null  object \n",
            " 21  PRIM_CONTRIBUTORY_CAUSE        31947 non-null  object \n",
            " 22  SEC_CONTRIBUTORY_CAUSE         31947 non-null  object \n",
            " 23  STREET_NO                      31947 non-null  float64\n",
            " 24  STREET_DIRECTION               31944 non-null  object \n",
            " 25  STREET_NAME                    31946 non-null  object \n",
            " 26  BEAT_OF_OCCURRENCE             31945 non-null  float64\n",
            " 27  PHOTOS_TAKEN_I                 377 non-null    object \n",
            " 28  STATEMENTS_TAKEN_I             731 non-null    object \n",
            " 29  DOORING_I                      88 non-null     object \n",
            " 30  WORK_ZONE_I                    182 non-null    object \n",
            " 31  WORK_ZONE_TYPE                 140 non-null    object \n",
            " 32  WORKERS_PRESENT_I              49 non-null     object \n",
            " 33  NUM_UNITS                      31947 non-null  float64\n",
            " 34  MOST_SEVERE_INJURY             31744 non-null  object \n",
            " 35  INJURIES_TOTAL                 31746 non-null  float64\n",
            " 36  INJURIES_FATAL                 31746 non-null  float64\n",
            " 37  INJURIES_INCAPACITATING        31746 non-null  float64\n",
            " 38  INJURIES_NON_INCAPACITATING    31746 non-null  float64\n",
            " 39  INJURIES_REPORTED_NOT_EVIDENT  31746 non-null  float64\n",
            " 40  INJURIES_NO_INDICATION         31746 non-null  float64\n",
            " 41  INJURIES_UNKNOWN               31746 non-null  float64\n",
            " 42  CRASH_HOUR                     31947 non-null  float64\n",
            " 43  CRASH_DAY_OF_WEEK              31947 non-null  float64\n",
            " 44  CRASH_MONTH                    31947 non-null  float64\n",
            " 45  LATITUDE                       25855 non-null  float64\n",
            " 46  LONGITUDE                      25855 non-null  float64\n",
            " 47  LOCATION                       25855 non-null  object \n",
            "dtypes: float64(16), int64(1), object(31)\n",
            "memory usage: 11.7+ MB\n",
            "None\n",
            "       POSTED_SPEED_LIMIT     LANE_CNT      STREET_NO  BEAT_OF_OCCURRENCE  \\\n",
            "count        31948.000000  6413.000000   31947.000000        31945.000000   \n",
            "mean            27.884062     2.647279    3573.615363         1260.066928   \n",
            "std              7.138530     2.999068    3935.582073          690.142539   \n",
            "min              0.000000     0.000000       0.000000          111.000000   \n",
            "25%             30.000000     2.000000     818.000000          722.000000   \n",
            "50%             30.000000     2.000000    2930.000000         1231.000000   \n",
            "75%             30.000000     4.000000    5600.000000         1723.000000   \n",
            "max             70.000000    99.000000  451100.000000         6100.000000   \n",
            "\n",
            "          NUM_UNITS  INJURIES_TOTAL  INJURIES_FATAL  INJURIES_INCAPACITATING  \\\n",
            "count  31947.000000    31746.000000    31746.000000             31746.000000   \n",
            "mean       2.013460        0.177597        0.001449                 0.018365   \n",
            "std        0.459402        0.552738        0.039660                 0.156378   \n",
            "min        1.000000        0.000000        0.000000                 0.000000   \n",
            "25%        2.000000        0.000000        0.000000                 0.000000   \n",
            "50%        2.000000        0.000000        0.000000                 0.000000   \n",
            "75%        2.000000        0.000000        0.000000                 0.000000   \n",
            "max       12.000000       21.000000        2.000000                 5.000000   \n",
            "\n",
            "       INJURIES_NON_INCAPACITATING  INJURIES_REPORTED_NOT_EVIDENT  \\\n",
            "count                 31746.000000                   31746.000000   \n",
            "mean                      0.099068                       0.058716   \n",
            "std                       0.411346                       0.312523   \n",
            "min                       0.000000                       0.000000   \n",
            "25%                       0.000000                       0.000000   \n",
            "50%                       0.000000                       0.000000   \n",
            "75%                       0.000000                       0.000000   \n",
            "max                      21.000000                      10.000000   \n",
            "\n",
            "       INJURIES_NO_INDICATION  INJURIES_UNKNOWN    CRASH_HOUR  \\\n",
            "count            31746.000000           31746.0  31947.000000   \n",
            "mean                 2.003717               0.0     13.115879   \n",
            "std                  1.114850               0.0      5.507839   \n",
            "min                  0.000000               0.0      0.000000   \n",
            "25%                  1.000000               0.0      9.000000   \n",
            "50%                  2.000000               0.0     14.000000   \n",
            "75%                  2.000000               0.0     17.000000   \n",
            "max                 27.000000               0.0     23.000000   \n",
            "\n",
            "       CRASH_DAY_OF_WEEK   CRASH_MONTH      LATITUDE     LONGITUDE  \n",
            "count       31947.000000  31947.000000  25855.000000  25855.000000  \n",
            "mean            4.091401      6.585877     41.779429    -87.517131  \n",
            "std             1.970714      3.392891      1.803988      3.774928  \n",
            "min             1.000000      1.000000      0.000000    -87.933994  \n",
            "25%             2.000000      4.000000     41.779854    -87.722209  \n",
            "50%             4.000000      7.000000     41.874739    -87.675868  \n",
            "75%             6.000000      9.000000     41.924810    -87.634584  \n",
            "max             7.000000     12.000000     42.022660      0.000000  \n"
          ]
        }
      ],
      "source": [
        "df = pd.read_csv(\"Traffic_Crashes.csv\")\n",
        "print(df.head())\n",
        "print(df.info())\n",
        "print(df.describe())"
      ]
    },
    {
      "cell_type": "code",
      "execution_count": 3,
      "metadata": {
        "colab": {
          "base_uri": "https://localhost:8080/"
        },
        "id": "CA2eYMLZtxOc",
        "outputId": "28d51d12-65d1-4a58-cbae-0a7adf591c8b"
      },
      "outputs": [
        {
          "output_type": "execute_result",
          "data": {
            "text/plain": [
              "Index(['CRASH_RECORD_ID', 'CRASH_DATE_EST_I', 'CRASH_DATE',\n",
              "       'POSTED_SPEED_LIMIT', 'TRAFFIC_CONTROL_DEVICE', 'DEVICE_CONDITION',\n",
              "       'WEATHER_CONDITION', 'LIGHTING_CONDITION', 'FIRST_CRASH_TYPE',\n",
              "       'TRAFFICWAY_TYPE', 'LANE_CNT', 'ALIGNMENT', 'ROADWAY_SURFACE_COND',\n",
              "       'ROAD_DEFECT', 'REPORT_TYPE', 'CRASH_TYPE', 'INTERSECTION_RELATED_I',\n",
              "       'NOT_RIGHT_OF_WAY_I', 'HIT_AND_RUN_I', 'DAMAGE', 'DATE_POLICE_NOTIFIED',\n",
              "       'PRIM_CONTRIBUTORY_CAUSE', 'SEC_CONTRIBUTORY_CAUSE', 'STREET_NO',\n",
              "       'STREET_DIRECTION', 'STREET_NAME', 'BEAT_OF_OCCURRENCE',\n",
              "       'PHOTOS_TAKEN_I', 'STATEMENTS_TAKEN_I', 'DOORING_I', 'WORK_ZONE_I',\n",
              "       'WORK_ZONE_TYPE', 'WORKERS_PRESENT_I', 'NUM_UNITS',\n",
              "       'MOST_SEVERE_INJURY', 'INJURIES_TOTAL', 'INJURIES_FATAL',\n",
              "       'INJURIES_INCAPACITATING', 'INJURIES_NON_INCAPACITATING',\n",
              "       'INJURIES_REPORTED_NOT_EVIDENT', 'INJURIES_NO_INDICATION',\n",
              "       'INJURIES_UNKNOWN', 'CRASH_HOUR', 'CRASH_DAY_OF_WEEK', 'CRASH_MONTH',\n",
              "       'LATITUDE', 'LONGITUDE', 'LOCATION'],\n",
              "      dtype='object')"
            ]
          },
          "metadata": {},
          "execution_count": 3
        }
      ],
      "source": [
        "df.columns"
      ]
    },
    {
      "cell_type": "markdown",
      "metadata": {
        "id": "rdr8lPvytxOd"
      },
      "source": [
        "## Check for any Missing values"
      ]
    },
    {
      "cell_type": "code",
      "execution_count": 4,
      "metadata": {
        "colab": {
          "base_uri": "https://localhost:8080/"
        },
        "id": "2vLQXXhltxOd",
        "outputId": "29f3522a-01a8-4949-c1a2-747b071e7f4b"
      },
      "outputs": [
        {
          "output_type": "stream",
          "name": "stdout",
          "text": [
            "CRASH_DATE_EST_I                 29762\n",
            "LANE_CNT                         25535\n",
            "REPORT_TYPE                        978\n",
            "INTERSECTION_RELATED_I           25230\n",
            "NOT_RIGHT_OF_WAY_I               30346\n",
            "HIT_AND_RUN_I                    22878\n",
            "PRIM_CONTRIBUTORY_CAUSE              1\n",
            "SEC_CONTRIBUTORY_CAUSE               1\n",
            "STREET_NO                            1\n",
            "STREET_DIRECTION                     4\n",
            "STREET_NAME                          2\n",
            "BEAT_OF_OCCURRENCE                   3\n",
            "PHOTOS_TAKEN_I                   31571\n",
            "STATEMENTS_TAKEN_I               31217\n",
            "DOORING_I                        31860\n",
            "WORK_ZONE_I                      31766\n",
            "WORK_ZONE_TYPE                   31808\n",
            "WORKERS_PRESENT_I                31899\n",
            "NUM_UNITS                            1\n",
            "MOST_SEVERE_INJURY                 204\n",
            "INJURIES_TOTAL                     202\n",
            "INJURIES_FATAL                     202\n",
            "INJURIES_INCAPACITATING            202\n",
            "INJURIES_NON_INCAPACITATING        202\n",
            "INJURIES_REPORTED_NOT_EVIDENT      202\n",
            "INJURIES_NO_INDICATION             202\n",
            "INJURIES_UNKNOWN                   202\n",
            "CRASH_HOUR                           1\n",
            "CRASH_DAY_OF_WEEK                    1\n",
            "CRASH_MONTH                          1\n",
            "LATITUDE                          6093\n",
            "LONGITUDE                         6093\n",
            "LOCATION                          6093\n",
            "dtype: int64\n"
          ]
        }
      ],
      "source": [
        "missing_values = df.isnull().sum()\n",
        "print(missing_values[missing_values > 0])"
      ]
    },
    {
      "cell_type": "markdown",
      "metadata": {
        "id": "ekx24vLYtxOd"
      },
      "source": [
        "## Check for Duplicte values"
      ]
    },
    {
      "cell_type": "code",
      "execution_count": 5,
      "metadata": {
        "colab": {
          "base_uri": "https://localhost:8080/"
        },
        "id": "UKl8WAV7txOd",
        "outputId": "0cf49ec8-5874-4bfb-860a-c4d4426b526b"
      },
      "outputs": [
        {
          "output_type": "stream",
          "name": "stdout",
          "text": [
            "Empty DataFrame\n",
            "Columns: [CRASH_RECORD_ID, CRASH_DATE_EST_I, CRASH_DATE, POSTED_SPEED_LIMIT, TRAFFIC_CONTROL_DEVICE, DEVICE_CONDITION, WEATHER_CONDITION, LIGHTING_CONDITION, FIRST_CRASH_TYPE, TRAFFICWAY_TYPE, LANE_CNT, ALIGNMENT, ROADWAY_SURFACE_COND, ROAD_DEFECT, REPORT_TYPE, CRASH_TYPE, INTERSECTION_RELATED_I, NOT_RIGHT_OF_WAY_I, HIT_AND_RUN_I, DAMAGE, DATE_POLICE_NOTIFIED, PRIM_CONTRIBUTORY_CAUSE, SEC_CONTRIBUTORY_CAUSE, STREET_NO, STREET_DIRECTION, STREET_NAME, BEAT_OF_OCCURRENCE, PHOTOS_TAKEN_I, STATEMENTS_TAKEN_I, DOORING_I, WORK_ZONE_I, WORK_ZONE_TYPE, WORKERS_PRESENT_I, NUM_UNITS, MOST_SEVERE_INJURY, INJURIES_TOTAL, INJURIES_FATAL, INJURIES_INCAPACITATING, INJURIES_NON_INCAPACITATING, INJURIES_REPORTED_NOT_EVIDENT, INJURIES_NO_INDICATION, INJURIES_UNKNOWN, CRASH_HOUR, CRASH_DAY_OF_WEEK, CRASH_MONTH, LATITUDE, LONGITUDE, LOCATION]\n",
            "Index: []\n",
            "\n",
            "[0 rows x 48 columns]\n"
          ]
        }
      ],
      "source": [
        "duplicate_rows = df[df.duplicated()]\n",
        "print(duplicate_rows)"
      ]
    }
  ],
  "metadata": {
    "kernelspec": {
      "display_name": "learn-env",
      "language": "python",
      "name": "python3"
    },
    "language_info": {
      "codemirror_mode": {
        "name": "ipython",
        "version": 3
      },
      "file_extension": ".py",
      "mimetype": "text/x-python",
      "name": "python",
      "nbconvert_exporter": "python",
      "pygments_lexer": "ipython3",
      "version": "3.8.12"
    },
    "colab": {
      "provenance": []
    }
  },
  "nbformat": 4,
  "nbformat_minor": 0
}