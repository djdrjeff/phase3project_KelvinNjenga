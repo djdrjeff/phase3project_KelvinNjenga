{
 "cells": [
  {
   "cell_type": "code",
   "execution_count": 1,
   "metadata": {},
   "outputs": [],
   "source": [
    "# Step 1: Import necessary libraries\n",
    "import pandas as pd\n",
    "import numpy as np\n",
    "import matplotlib.pyplot as plt\n",
    "import seaborn as sns\n",
    "import pickle, sklearn\n",
    "from sklearn.model_selection import train_test_split\n",
    "from sklearn.preprocessing import StandardScaler\n",
    "from sklearn.compose import ColumnTransformer\n",
    "from sklearn.pipeline import Pipeline\n",
    "from sklearn.impute import SimpleImputer\n",
    "from sklearn.tree import DecisionTreeClassifier\n",
    "from sklearn.ensemble import RandomForestClassifier, GradientBoostingClassifier\n",
    "from sklearn.linear_model import LogisticRegression\n",
    "from sklearn.metrics import accuracy_score, roc_curve, roc_auc_score\n",
    "from numbers import Number"
   ]
  },
  {
   "cell_type": "code",
   "execution_count": 2,
   "metadata": {},
   "outputs": [
    {
     "name": "stderr",
     "output_type": "stream",
     "text": [
      "c:\\Users\\kelvintheduke\\anaconda3\\envs\\learn-env\\lib\\site-packages\\IPython\\core\\interactiveshell.py:3194: DtypeWarning: Columns (29) have mixed types.Specify dtype option on import or set low_memory=False.\n",
      "  has_raised = await self.run_ast_nodes(code_ast.body, cell_name,\n"
     ]
    },
    {
     "name": "stdout",
     "output_type": "stream",
     "text": [
      "                                     CRASH_RECORD_ID CRASH_DATE_EST_I  \\\n",
      "0  23a79931ef555d54118f64dc9be2cf2dbf59636ce253f7...              NaN   \n",
      "1  2675c13fd0f474d730a5b780968b3cafc7c12d7adb661f...              NaN   \n",
      "2  5f54a59fcb087b12ae5b1acff96a3caf4f2d37e79f8db4...              NaN   \n",
      "3  7ebf015016f83d09b321afd671a836d6b148330535d5df...              NaN   \n",
      "4  6c1659069e9c6285a650e70d6f9b574ed5f64c12888479...              NaN   \n",
      "\n",
      "               CRASH_DATE  POSTED_SPEED_LIMIT TRAFFIC_CONTROL_DEVICE  \\\n",
      "0  09/05/2023 07:05:00 PM                  30         TRAFFIC SIGNAL   \n",
      "1  09/22/2023 06:45:00 PM                  50            NO CONTROLS   \n",
      "2  07/29/2023 02:45:00 PM                  30         TRAFFIC SIGNAL   \n",
      "3  08/09/2023 11:00:00 PM                  30            NO CONTROLS   \n",
      "4  08/18/2023 12:50:00 PM                  15                  OTHER   \n",
      "\n",
      "       DEVICE_CONDITION WEATHER_CONDITION      LIGHTING_CONDITION  \\\n",
      "0  FUNCTIONING PROPERLY             CLEAR                    DUSK   \n",
      "1           NO CONTROLS             CLEAR  DARKNESS, LIGHTED ROAD   \n",
      "2  FUNCTIONING PROPERLY             CLEAR                DAYLIGHT   \n",
      "3           NO CONTROLS             CLEAR  DARKNESS, LIGHTED ROAD   \n",
      "4  FUNCTIONING PROPERLY             CLEAR                DAYLIGHT   \n",
      "\n",
      "           FIRST_CRASH_TYPE                  TRAFFICWAY_TYPE  ...  \\\n",
      "0                     ANGLE              FIVE POINT, OR MORE  ...   \n",
      "1                  REAR END       DIVIDED - W/MEDIAN BARRIER  ...   \n",
      "2      PARKED MOTOR VEHICLE  DIVIDED - W/MEDIAN (NOT RAISED)  ...   \n",
      "3  SIDESWIPE SAME DIRECTION                      NOT DIVIDED  ...   \n",
      "4                  REAR END                            OTHER  ...   \n",
      "\n",
      "   INJURIES_NON_INCAPACITATING INJURIES_REPORTED_NOT_EVIDENT  \\\n",
      "0                          2.0                           0.0   \n",
      "1                          0.0                           0.0   \n",
      "2                          0.0                           0.0   \n",
      "3                          0.0                           0.0   \n",
      "4                          1.0                           0.0   \n",
      "\n",
      "  INJURIES_NO_INDICATION INJURIES_UNKNOWN CRASH_HOUR CRASH_DAY_OF_WEEK  \\\n",
      "0                    2.0              0.0         19                 3   \n",
      "1                    2.0              0.0         18                 6   \n",
      "2                    1.0              0.0         14                 7   \n",
      "3                    2.0              0.0         23                 4   \n",
      "4                    1.0              0.0         12                 6   \n",
      "\n",
      "  CRASH_MONTH  LATITUDE  LONGITUDE                                  LOCATION  \n",
      "0           9       NaN        NaN                                       NaN  \n",
      "1           9       NaN        NaN                                       NaN  \n",
      "2           7  41.85412 -87.665902  POINT (-87.665902342962 41.854120262952)  \n",
      "3           8       NaN        NaN                                       NaN  \n",
      "4           8       NaN        NaN                                       NaN  \n",
      "\n",
      "[5 rows x 48 columns]\n",
      "<class 'pandas.core.frame.DataFrame'>\n",
      "RangeIndex: 901802 entries, 0 to 901801\n",
      "Data columns (total 48 columns):\n",
      " #   Column                         Non-Null Count   Dtype  \n",
      "---  ------                         --------------   -----  \n",
      " 0   CRASH_RECORD_ID                901802 non-null  object \n",
      " 1   CRASH_DATE_EST_I               66558 non-null   object \n",
      " 2   CRASH_DATE                     901802 non-null  object \n",
      " 3   POSTED_SPEED_LIMIT             901802 non-null  int64  \n",
      " 4   TRAFFIC_CONTROL_DEVICE         901802 non-null  object \n",
      " 5   DEVICE_CONDITION               901802 non-null  object \n",
      " 6   WEATHER_CONDITION              901802 non-null  object \n",
      " 7   LIGHTING_CONDITION             901802 non-null  object \n",
      " 8   FIRST_CRASH_TYPE               901802 non-null  object \n",
      " 9   TRAFFICWAY_TYPE                901802 non-null  object \n",
      " 10  LANE_CNT                       199022 non-null  float64\n",
      " 11  ALIGNMENT                      901802 non-null  object \n",
      " 12  ROADWAY_SURFACE_COND           901802 non-null  object \n",
      " 13  ROAD_DEFECT                    901802 non-null  object \n",
      " 14  REPORT_TYPE                    873725 non-null  object \n",
      " 15  CRASH_TYPE                     901802 non-null  object \n",
      " 16  INTERSECTION_RELATED_I         207130 non-null  object \n",
      " 17  NOT_RIGHT_OF_WAY_I             41059 non-null   object \n",
      " 18  HIT_AND_RUN_I                  282798 non-null  object \n",
      " 19  DAMAGE                         901802 non-null  object \n",
      " 20  DATE_POLICE_NOTIFIED           901802 non-null  object \n",
      " 21  PRIM_CONTRIBUTORY_CAUSE        901802 non-null  object \n",
      " 22  SEC_CONTRIBUTORY_CAUSE         901802 non-null  object \n",
      " 23  STREET_NO                      901802 non-null  int64  \n",
      " 24  STREET_DIRECTION               901798 non-null  object \n",
      " 25  STREET_NAME                    901801 non-null  object \n",
      " 26  BEAT_OF_OCCURRENCE             901797 non-null  float64\n",
      " 27  PHOTOS_TAKEN_I                 12327 non-null   object \n",
      " 28  STATEMENTS_TAKEN_I             20760 non-null   object \n",
      " 29  DOORING_I                      2856 non-null    object \n",
      " 30  WORK_ZONE_I                    5038 non-null    object \n",
      " 31  WORK_ZONE_TYPE                 3887 non-null    object \n",
      " 32  WORKERS_PRESENT_I              1297 non-null    object \n",
      " 33  NUM_UNITS                      901802 non-null  int64  \n",
      " 34  MOST_SEVERE_INJURY             899809 non-null  object \n",
      " 35  INJURIES_TOTAL                 899823 non-null  float64\n",
      " 36  INJURIES_FATAL                 899823 non-null  float64\n",
      " 37  INJURIES_INCAPACITATING        899823 non-null  float64\n",
      " 38  INJURIES_NON_INCAPACITATING    899823 non-null  float64\n",
      " 39  INJURIES_REPORTED_NOT_EVIDENT  899823 non-null  float64\n",
      " 40  INJURIES_NO_INDICATION         899823 non-null  float64\n",
      " 41  INJURIES_UNKNOWN               899823 non-null  float64\n",
      " 42  CRASH_HOUR                     901802 non-null  int64  \n",
      " 43  CRASH_DAY_OF_WEEK              901802 non-null  int64  \n",
      " 44  CRASH_MONTH                    901802 non-null  int64  \n",
      " 45  LATITUDE                       895267 non-null  float64\n",
      " 46  LONGITUDE                      895267 non-null  float64\n",
      " 47  LOCATION                       895267 non-null  object \n",
      "dtypes: float64(11), int64(6), object(31)\n",
      "memory usage: 330.2+ MB\n",
      "None\n",
      "       POSTED_SPEED_LIMIT      LANE_CNT      STREET_NO  BEAT_OF_OCCURRENCE  \\\n",
      "count       901802.000000  1.990220e+05  901802.000000       901797.000000   \n",
      "mean            28.421526  1.332942e+01    3688.327445         1245.588611   \n",
      "std              6.104955  2.961504e+03    2879.258417          704.780731   \n",
      "min              0.000000  0.000000e+00       0.000000          111.000000   \n",
      "25%             30.000000  2.000000e+00    1254.000000          715.000000   \n",
      "50%             30.000000  2.000000e+00    3201.000000         1212.000000   \n",
      "75%             30.000000  4.000000e+00    5560.000000         1822.000000   \n",
      "max             99.000000  1.191625e+06  451100.000000         6100.000000   \n",
      "\n",
      "           NUM_UNITS  INJURIES_TOTAL  INJURIES_FATAL  INJURIES_INCAPACITATING  \\\n",
      "count  901802.000000   899823.000000   899823.000000            899823.000000   \n",
      "mean        2.035232        0.194210        0.001187                 0.019724   \n",
      "std         0.451913        0.572321        0.037342                 0.164549   \n",
      "min         1.000000        0.000000        0.000000                 0.000000   \n",
      "25%         2.000000        0.000000        0.000000                 0.000000   \n",
      "50%         2.000000        0.000000        0.000000                 0.000000   \n",
      "75%         2.000000        0.000000        0.000000                 0.000000   \n",
      "max        18.000000       21.000000        4.000000                10.000000   \n",
      "\n",
      "       INJURIES_NON_INCAPACITATING  INJURIES_REPORTED_NOT_EVIDENT  \\\n",
      "count                899823.000000                  899823.000000   \n",
      "mean                      0.108771                       0.064528   \n",
      "std                       0.425244                       0.326459   \n",
      "min                       0.000000                       0.000000   \n",
      "25%                       0.000000                       0.000000   \n",
      "50%                       0.000000                       0.000000   \n",
      "75%                       0.000000                       0.000000   \n",
      "max                      21.000000                      15.000000   \n",
      "\n",
      "       INJURIES_NO_INDICATION  INJURIES_UNKNOWN     CRASH_HOUR  \\\n",
      "count           899823.000000          899823.0  901802.000000   \n",
      "mean                 2.000971               0.0      13.201040   \n",
      "std                  1.156948               0.0       5.571479   \n",
      "min                  0.000000               0.0       0.000000   \n",
      "25%                  1.000000               0.0       9.000000   \n",
      "50%                  2.000000               0.0      14.000000   \n",
      "75%                  2.000000               0.0      17.000000   \n",
      "max                 61.000000               0.0      23.000000   \n",
      "\n",
      "       CRASH_DAY_OF_WEEK   CRASH_MONTH       LATITUDE      LONGITUDE  \n",
      "count      901802.000000  901802.00000  895267.000000  895267.000000  \n",
      "mean            4.121007       6.74094      41.855172     -87.673671  \n",
      "std             1.980521       3.38447       0.336293       0.683483  \n",
      "min             1.000000       1.00000       0.000000     -87.936193  \n",
      "25%             2.000000       4.00000      41.783321     -87.721836  \n",
      "50%             4.000000       7.00000      41.874981     -87.674289  \n",
      "75%             6.000000      10.00000      41.924579     -87.633633  \n",
      "max             7.000000      12.00000      42.022780       0.000000  \n"
     ]
    }
   ],
   "source": [
    "df = pd.read_csv(\"Traffic_Crashes.csv\")\n",
    "print(df.head())\n",
    "print(df.info())\n",
    "print(df.describe())"
   ]
  },
  {
   "cell_type": "code",
   "execution_count": 3,
   "metadata": {},
   "outputs": [
    {
     "data": {
      "text/plain": [
       "Index(['CRASH_RECORD_ID', 'CRASH_DATE_EST_I', 'CRASH_DATE',\n",
       "       'POSTED_SPEED_LIMIT', 'TRAFFIC_CONTROL_DEVICE', 'DEVICE_CONDITION',\n",
       "       'WEATHER_CONDITION', 'LIGHTING_CONDITION', 'FIRST_CRASH_TYPE',\n",
       "       'TRAFFICWAY_TYPE', 'LANE_CNT', 'ALIGNMENT', 'ROADWAY_SURFACE_COND',\n",
       "       'ROAD_DEFECT', 'REPORT_TYPE', 'CRASH_TYPE', 'INTERSECTION_RELATED_I',\n",
       "       'NOT_RIGHT_OF_WAY_I', 'HIT_AND_RUN_I', 'DAMAGE', 'DATE_POLICE_NOTIFIED',\n",
       "       'PRIM_CONTRIBUTORY_CAUSE', 'SEC_CONTRIBUTORY_CAUSE', 'STREET_NO',\n",
       "       'STREET_DIRECTION', 'STREET_NAME', 'BEAT_OF_OCCURRENCE',\n",
       "       'PHOTOS_TAKEN_I', 'STATEMENTS_TAKEN_I', 'DOORING_I', 'WORK_ZONE_I',\n",
       "       'WORK_ZONE_TYPE', 'WORKERS_PRESENT_I', 'NUM_UNITS',\n",
       "       'MOST_SEVERE_INJURY', 'INJURIES_TOTAL', 'INJURIES_FATAL',\n",
       "       'INJURIES_INCAPACITATING', 'INJURIES_NON_INCAPACITATING',\n",
       "       'INJURIES_REPORTED_NOT_EVIDENT', 'INJURIES_NO_INDICATION',\n",
       "       'INJURIES_UNKNOWN', 'CRASH_HOUR', 'CRASH_DAY_OF_WEEK', 'CRASH_MONTH',\n",
       "       'LATITUDE', 'LONGITUDE', 'LOCATION'],\n",
       "      dtype='object')"
      ]
     },
     "execution_count": 3,
     "metadata": {},
     "output_type": "execute_result"
    }
   ],
   "source": [
    "df.columns"
   ]
  },
  {
   "cell_type": "markdown",
   "metadata": {},
   "source": [
    "## Check for any Missing values"
   ]
  },
  {
   "cell_type": "code",
   "execution_count": 4,
   "metadata": {},
   "outputs": [
    {
     "name": "stdout",
     "output_type": "stream",
     "text": [
      "CRASH_DATE_EST_I                 835244\n",
      "LANE_CNT                         702780\n",
      "REPORT_TYPE                       28077\n",
      "INTERSECTION_RELATED_I           694672\n",
      "NOT_RIGHT_OF_WAY_I               860743\n",
      "HIT_AND_RUN_I                    619004\n",
      "STREET_DIRECTION                      4\n",
      "STREET_NAME                           1\n",
      "BEAT_OF_OCCURRENCE                    5\n",
      "PHOTOS_TAKEN_I                   889475\n",
      "STATEMENTS_TAKEN_I               881042\n",
      "DOORING_I                        898946\n",
      "WORK_ZONE_I                      896764\n",
      "WORK_ZONE_TYPE                   897915\n",
      "WORKERS_PRESENT_I                900505\n",
      "MOST_SEVERE_INJURY                 1993\n",
      "INJURIES_TOTAL                     1979\n",
      "INJURIES_FATAL                     1979\n",
      "INJURIES_INCAPACITATING            1979\n",
      "INJURIES_NON_INCAPACITATING        1979\n",
      "INJURIES_REPORTED_NOT_EVIDENT      1979\n",
      "INJURIES_NO_INDICATION             1979\n",
      "INJURIES_UNKNOWN                   1979\n",
      "LATITUDE                           6535\n",
      "LONGITUDE                          6535\n",
      "LOCATION                           6535\n",
      "dtype: int64\n"
     ]
    }
   ],
   "source": [
    "missing_values = df.isnull().sum()\n",
    "print(missing_values[missing_values > 0])"
   ]
  },
  {
   "cell_type": "markdown",
   "metadata": {},
   "source": [
    "## Check for Duplicte values"
   ]
  },
  {
   "cell_type": "code",
   "execution_count": 5,
   "metadata": {},
   "outputs": [
    {
     "name": "stdout",
     "output_type": "stream",
     "text": [
      "Empty DataFrame\n",
      "Columns: [CRASH_RECORD_ID, CRASH_DATE_EST_I, CRASH_DATE, POSTED_SPEED_LIMIT, TRAFFIC_CONTROL_DEVICE, DEVICE_CONDITION, WEATHER_CONDITION, LIGHTING_CONDITION, FIRST_CRASH_TYPE, TRAFFICWAY_TYPE, LANE_CNT, ALIGNMENT, ROADWAY_SURFACE_COND, ROAD_DEFECT, REPORT_TYPE, CRASH_TYPE, INTERSECTION_RELATED_I, NOT_RIGHT_OF_WAY_I, HIT_AND_RUN_I, DAMAGE, DATE_POLICE_NOTIFIED, PRIM_CONTRIBUTORY_CAUSE, SEC_CONTRIBUTORY_CAUSE, STREET_NO, STREET_DIRECTION, STREET_NAME, BEAT_OF_OCCURRENCE, PHOTOS_TAKEN_I, STATEMENTS_TAKEN_I, DOORING_I, WORK_ZONE_I, WORK_ZONE_TYPE, WORKERS_PRESENT_I, NUM_UNITS, MOST_SEVERE_INJURY, INJURIES_TOTAL, INJURIES_FATAL, INJURIES_INCAPACITATING, INJURIES_NON_INCAPACITATING, INJURIES_REPORTED_NOT_EVIDENT, INJURIES_NO_INDICATION, INJURIES_UNKNOWN, CRASH_HOUR, CRASH_DAY_OF_WEEK, CRASH_MONTH, LATITUDE, LONGITUDE, LOCATION]\n",
      "Index: []\n",
      "\n",
      "[0 rows x 48 columns]\n"
     ]
    }
   ],
   "source": [
    "duplicate_rows = df[df.duplicated()]\n",
    "print(duplicate_rows)"
   ]
  }
 ],
 "metadata": {
  "kernelspec": {
   "display_name": "learn-env",
   "language": "python",
   "name": "python3"
  },
  "language_info": {
   "codemirror_mode": {
    "name": "ipython",
    "version": 3
   },
   "file_extension": ".py",
   "mimetype": "text/x-python",
   "name": "python",
   "nbconvert_exporter": "python",
   "pygments_lexer": "ipython3",
   "version": "3.8.12"
  }
 },
 "nbformat": 4,
 "nbformat_minor": 2
}
