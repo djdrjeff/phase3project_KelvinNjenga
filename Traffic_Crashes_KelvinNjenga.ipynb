{
  "cells": [
    {
      "cell_type": "markdown",
      "source": [
        "## Traffic Crashes in Chicago"
      ],
      "metadata": {
        "id": "5ykbsxRQxiEy"
      }
    },
    {
      "cell_type": "markdown",
      "source": [
        "Urban traffic accidents pose significant challenges, leading to considerable human suffering and economic losses. In Chicago, the annual toll includes numerous traffic collisions that result in injuries, fatalities, and substantial property damage. Identifying the factors that lead to these incidents and forecasting their severity are crucial steps for city planners and public safety officials aiming to enhance road safety. This initiative utilizes the City of Chicago's Traffic Crashes dataset to develop predictive models that pinpoint high-risk situations and offer actionable insights."
      ],
      "metadata": {
        "id": "-wtSb7cLxol-"
      }
    },
    {
      "cell_type": "markdown",
      "source": [
        "## Project Overview"
      ],
      "metadata": {
        "id": "gaULWzqKzoUS"
      }
    },
    {
      "cell_type": "markdown",
      "source": [
        "This initiative seeks to examine Chicago's traffic accident data to forecast the leading contributory causes of these incidents. By employing machine learning algorithms, the project aims to pinpoint critical factors that lead to accidents, thereby guiding policy decisions to enhance traffic safety and mitigate future collisions. The dataset encompasses various attributes related to accidents, including weather conditions, lighting, and roadway surface states. The primary focus is on the 'Primary Contributory Cause,' approached as a multi-class classification challenge."
      ],
      "metadata": {
        "id": "NjkOZ6xGzrlJ"
      }
    },
    {
      "cell_type": "markdown",
      "source": [
        "## Business Understanding"
      ],
      "metadata": {
        "id": "DrxXCuaB0DrS"
      }
    },
    {
      "cell_type": "markdown",
      "source": [
        "Traffic accidents represent a critical public safety concern. Identifying the factors that lead to these incidents enables city planners, traffic engineers, and policymakers to implement more effective safety measures. This project aims to develop a model that accurately predicts the primary contributory causes of accidents, providing actionable insights to reduce their frequency and severity."
      ],
      "metadata": {
        "id": "aXiJBKvF0F-K"
      }
    },
    {
      "cell_type": "markdown",
      "source": [
        "## Data Understanding"
      ],
      "metadata": {
        "id": "i0JXopxH1cfx"
      }
    },
    {
      "cell_type": "markdown",
      "source": [
        "he dataset for this project is sourced from the City of Chicago's Traffic Crashes database, which provides comprehensive details for each incident, including:\n",
        "\n",
        "- Crash Date: Specifies the exact date and time when the crash\n",
        "occurred.\n",
        "- Traffic Control Device: Identifies the type of traffic control mechanism in place at the location of the crash.\n",
        "- Weather Conditions: Describes the atmospheric conditions present at the time of the accident.\n",
        "- Roadway Surface Conditions: Indicates the state of the road surface during the crash.\n",
        "- Lighting Conditions: Details the level of illumination at the crash scene.\n"
      ],
      "metadata": {
        "id": "3uv7WGqo1hHm"
      }
    },
    {
      "cell_type": "markdown",
      "source": [
        "## Data Preparation"
      ],
      "metadata": {
        "id": "L5Hd6HaZ2GAN"
      }
    },
    {
      "cell_type": "markdown",
      "source": [
        "## Importing Libraries"
      ],
      "metadata": {
        "id": "Nv_EEs8Z2ItH"
      }
    },
    {
      "cell_type": "code",
      "execution_count": 3,
      "metadata": {
        "id": "woYTTz1mtxOa"
      },
      "outputs": [],
      "source": [
        "# Step 1: Import necessary libraries\n",
        "import pandas as pd\n",
        "import numpy as np\n",
        "import matplotlib.pyplot as plt\n",
        "import seaborn as sns\n",
        "import pickle, sklearn\n",
        "from sklearn.model_selection import train_test_split\n",
        "from sklearn.preprocessing import StandardScaler\n",
        "from sklearn.compose import ColumnTransformer\n",
        "from sklearn.pipeline import Pipeline\n",
        "from sklearn.impute import SimpleImputer\n",
        "from sklearn.tree import DecisionTreeClassifier\n",
        "from sklearn.ensemble import RandomForestClassifier, GradientBoostingClassifier\n",
        "from sklearn.linear_model import LogisticRegression\n",
        "from sklearn.metrics import accuracy_score, roc_curve, roc_auc_score\n",
        "from numbers import Number"
      ]
    },
    {
      "cell_type": "markdown",
      "source": [
        "## Reading and accessing the data"
      ],
      "metadata": {
        "id": "2gIZgIcU2MmD"
      }
    },
    {
      "cell_type": "code",
      "execution_count": 4,
      "metadata": {
        "colab": {
          "base_uri": "https://localhost:8080/"
        },
        "id": "Qu87TIQ2txOc",
        "outputId": "b1890f85-cc3d-4f58-f7ec-ab00b33ab270"
      },
      "outputs": [
        {
          "output_type": "stream",
          "name": "stdout",
          "text": [
            "                                     CRASH_RECORD_ID CRASH_DATE_EST_I  \\\n",
            "0  23a79931ef555d54118f64dc9be2cf2dbf59636ce253f7...              NaN   \n",
            "1  2675c13fd0f474d730a5b780968b3cafc7c12d7adb661f...              NaN   \n",
            "2  5f54a59fcb087b12ae5b1acff96a3caf4f2d37e79f8db4...              NaN   \n",
            "3  7ebf015016f83d09b321afd671a836d6b148330535d5df...              NaN   \n",
            "4  6c1659069e9c6285a650e70d6f9b574ed5f64c12888479...              NaN   \n",
            "\n",
            "               CRASH_DATE  POSTED_SPEED_LIMIT TRAFFIC_CONTROL_DEVICE  \\\n",
            "0  09/05/2023 07:05:00 PM                  30         TRAFFIC SIGNAL   \n",
            "1  09/22/2023 06:45:00 PM                  50            NO CONTROLS   \n",
            "2  07/29/2023 02:45:00 PM                  30         TRAFFIC SIGNAL   \n",
            "3  08/09/2023 11:00:00 PM                  30            NO CONTROLS   \n",
            "4  08/18/2023 12:50:00 PM                  15                  OTHER   \n",
            "\n",
            "       DEVICE_CONDITION WEATHER_CONDITION      LIGHTING_CONDITION  \\\n",
            "0  FUNCTIONING PROPERLY             CLEAR                    DUSK   \n",
            "1           NO CONTROLS             CLEAR  DARKNESS, LIGHTED ROAD   \n",
            "2  FUNCTIONING PROPERLY             CLEAR                DAYLIGHT   \n",
            "3           NO CONTROLS             CLEAR  DARKNESS, LIGHTED ROAD   \n",
            "4  FUNCTIONING PROPERLY             CLEAR                DAYLIGHT   \n",
            "\n",
            "           FIRST_CRASH_TYPE                  TRAFFICWAY_TYPE  ...  \\\n",
            "0                     ANGLE              FIVE POINT, OR MORE  ...   \n",
            "1                  REAR END       DIVIDED - W/MEDIAN BARRIER  ...   \n",
            "2      PARKED MOTOR VEHICLE  DIVIDED - W/MEDIAN (NOT RAISED)  ...   \n",
            "3  SIDESWIPE SAME DIRECTION                      NOT DIVIDED  ...   \n",
            "4                  REAR END                            OTHER  ...   \n",
            "\n",
            "   INJURIES_NON_INCAPACITATING INJURIES_REPORTED_NOT_EVIDENT  \\\n",
            "0                          2.0                           0.0   \n",
            "1                          0.0                           0.0   \n",
            "2                          0.0                           0.0   \n",
            "3                          0.0                           0.0   \n",
            "4                          1.0                           0.0   \n",
            "\n",
            "  INJURIES_NO_INDICATION INJURIES_UNKNOWN CRASH_HOUR CRASH_DAY_OF_WEEK  \\\n",
            "0                    2.0              0.0       19.0               3.0   \n",
            "1                    2.0              0.0       18.0               6.0   \n",
            "2                    1.0              0.0       14.0               7.0   \n",
            "3                    2.0              0.0       23.0               4.0   \n",
            "4                    1.0              0.0       12.0               6.0   \n",
            "\n",
            "  CRASH_MONTH  LATITUDE  LONGITUDE                                  LOCATION  \n",
            "0         9.0       NaN        NaN                                       NaN  \n",
            "1         9.0       NaN        NaN                                       NaN  \n",
            "2         7.0  41.85412 -87.665902  POINT (-87.665902342962 41.854120262952)  \n",
            "3         8.0       NaN        NaN                                       NaN  \n",
            "4         8.0       NaN        NaN                                       NaN  \n",
            "\n",
            "[5 rows x 48 columns]\n",
            "<class 'pandas.core.frame.DataFrame'>\n",
            "RangeIndex: 14294 entries, 0 to 14293\n",
            "Data columns (total 48 columns):\n",
            " #   Column                         Non-Null Count  Dtype  \n",
            "---  ------                         --------------  -----  \n",
            " 0   CRASH_RECORD_ID                14294 non-null  object \n",
            " 1   CRASH_DATE_EST_I               1003 non-null   object \n",
            " 2   CRASH_DATE                     14294 non-null  object \n",
            " 3   POSTED_SPEED_LIMIT             14294 non-null  int64  \n",
            " 4   TRAFFIC_CONTROL_DEVICE         14294 non-null  object \n",
            " 5   DEVICE_CONDITION               14294 non-null  object \n",
            " 6   WEATHER_CONDITION              14294 non-null  object \n",
            " 7   LIGHTING_CONDITION             14294 non-null  object \n",
            " 8   FIRST_CRASH_TYPE               14294 non-null  object \n",
            " 9   TRAFFICWAY_TYPE                14294 non-null  object \n",
            " 10  LANE_CNT                       2900 non-null   float64\n",
            " 11  ALIGNMENT                      14294 non-null  object \n",
            " 12  ROADWAY_SURFACE_COND           14294 non-null  object \n",
            " 13  ROAD_DEFECT                    14294 non-null  object \n",
            " 14  REPORT_TYPE                    13952 non-null  object \n",
            " 15  CRASH_TYPE                     14294 non-null  object \n",
            " 16  INTERSECTION_RELATED_I         2981 non-null   object \n",
            " 17  NOT_RIGHT_OF_WAY_I             637 non-null    object \n",
            " 18  HIT_AND_RUN_I                  3805 non-null   object \n",
            " 19  DAMAGE                         14294 non-null  object \n",
            " 20  DATE_POLICE_NOTIFIED           14294 non-null  object \n",
            " 21  PRIM_CONTRIBUTORY_CAUSE        14293 non-null  object \n",
            " 22  SEC_CONTRIBUTORY_CAUSE         14293 non-null  object \n",
            " 23  STREET_NO                      14293 non-null  float64\n",
            " 24  STREET_DIRECTION               14290 non-null  object \n",
            " 25  STREET_NAME                    14292 non-null  object \n",
            " 26  BEAT_OF_OCCURRENCE             14291 non-null  float64\n",
            " 27  PHOTOS_TAKEN_I                 174 non-null    object \n",
            " 28  STATEMENTS_TAKEN_I             337 non-null    object \n",
            " 29  DOORING_I                      35 non-null     object \n",
            " 30  WORK_ZONE_I                    93 non-null     object \n",
            " 31  WORK_ZONE_TYPE                 80 non-null     object \n",
            " 32  WORKERS_PRESENT_I              34 non-null     object \n",
            " 33  NUM_UNITS                      14293 non-null  float64\n",
            " 34  MOST_SEVERE_INJURY             14263 non-null  object \n",
            " 35  INJURIES_TOTAL                 14263 non-null  float64\n",
            " 36  INJURIES_FATAL                 14263 non-null  float64\n",
            " 37  INJURIES_INCAPACITATING        14263 non-null  float64\n",
            " 38  INJURIES_NON_INCAPACITATING    14263 non-null  float64\n",
            " 39  INJURIES_REPORTED_NOT_EVIDENT  14263 non-null  float64\n",
            " 40  INJURIES_NO_INDICATION         14263 non-null  float64\n",
            " 41  INJURIES_UNKNOWN               14263 non-null  float64\n",
            " 42  CRASH_HOUR                     14293 non-null  float64\n",
            " 43  CRASH_DAY_OF_WEEK              14293 non-null  float64\n",
            " 44  CRASH_MONTH                    14293 non-null  float64\n",
            " 45  LATITUDE                       8381 non-null   float64\n",
            " 46  LONGITUDE                      8381 non-null   float64\n",
            " 47  LOCATION                       8381 non-null   object \n",
            "dtypes: float64(16), int64(1), object(31)\n",
            "memory usage: 5.2+ MB\n",
            "None\n",
            "       POSTED_SPEED_LIMIT     LANE_CNT      STREET_NO  BEAT_OF_OCCURRENCE  \\\n",
            "count        14294.000000  2900.000000   14293.000000        14291.000000   \n",
            "mean            27.693508     2.819310    3397.768348         1265.178434   \n",
            "std              7.904489     3.280248    4940.486636          670.452473   \n",
            "min              0.000000     0.000000       0.000000          111.000000   \n",
            "25%             25.000000     2.000000     517.000000          723.000000   \n",
            "50%             30.000000     2.000000    2540.000000         1434.000000   \n",
            "75%             30.000000     4.000000    5514.000000         1654.000000   \n",
            "max             70.000000    99.000000  451100.000000         6100.000000   \n",
            "\n",
            "          NUM_UNITS  INJURIES_TOTAL  INJURIES_FATAL  INJURIES_INCAPACITATING  \\\n",
            "count  14293.000000    14263.000000    14263.000000             14263.000000   \n",
            "mean       2.010425        0.188039        0.001332                 0.018930   \n",
            "std        0.450102        0.571472        0.038349                 0.161696   \n",
            "min        1.000000        0.000000        0.000000                 0.000000   \n",
            "25%        2.000000        0.000000        0.000000                 0.000000   \n",
            "50%        2.000000        0.000000        0.000000                 0.000000   \n",
            "75%        2.000000        0.000000        0.000000                 0.000000   \n",
            "max       12.000000       15.000000        2.000000                 5.000000   \n",
            "\n",
            "       INJURIES_NON_INCAPACITATING  INJURIES_REPORTED_NOT_EVIDENT  \\\n",
            "count                 14263.000000                   14263.000000   \n",
            "mean                      0.104957                       0.062820   \n",
            "std                       0.419337                       0.325139   \n",
            "min                       0.000000                       0.000000   \n",
            "25%                       0.000000                       0.000000   \n",
            "50%                       0.000000                       0.000000   \n",
            "75%                       0.000000                       0.000000   \n",
            "max                       6.000000                      10.000000   \n",
            "\n",
            "       INJURIES_NO_INDICATION  INJURIES_UNKNOWN    CRASH_HOUR  \\\n",
            "count            14263.000000           14263.0  14293.000000   \n",
            "mean                 2.001122               0.0     13.102498   \n",
            "std                  1.121305               0.0      5.607789   \n",
            "min                  0.000000               0.0      0.000000   \n",
            "25%                  1.000000               0.0      9.000000   \n",
            "50%                  2.000000               0.0     14.000000   \n",
            "75%                  2.000000               0.0     17.000000   \n",
            "max                 27.000000               0.0     23.000000   \n",
            "\n",
            "       CRASH_DAY_OF_WEEK   CRASH_MONTH     LATITUDE    LONGITUDE  \n",
            "count       14293.000000  14293.000000  8381.000000  8381.000000  \n",
            "mean            4.061988      6.580564    41.623625   -87.189715  \n",
            "std             1.971726      3.436099     3.127186     6.548359  \n",
            "min             1.000000      1.000000     0.000000   -87.933994  \n",
            "25%             2.000000      4.000000    41.781253   -87.722781  \n",
            "50%             4.000000      7.000000    41.877837   -87.678812  \n",
            "75%             6.000000     10.000000    41.924490   -87.634820  \n",
            "max             7.000000     12.000000    42.022421     0.000000  \n"
          ]
        }
      ],
      "source": [
        "df = pd.read_csv(\"Traffic_Crashes.csv\")\n",
        "print(df.head())\n",
        "print(df.info())\n",
        "print(df.describe())"
      ]
    },
    {
      "cell_type": "code",
      "execution_count": 5,
      "metadata": {
        "colab": {
          "base_uri": "https://localhost:8080/"
        },
        "id": "CA2eYMLZtxOc",
        "outputId": "6bb27347-d9a7-4e44-b235-6c70113b4af0"
      },
      "outputs": [
        {
          "output_type": "execute_result",
          "data": {
            "text/plain": [
              "Index(['CRASH_RECORD_ID', 'CRASH_DATE_EST_I', 'CRASH_DATE',\n",
              "       'POSTED_SPEED_LIMIT', 'TRAFFIC_CONTROL_DEVICE', 'DEVICE_CONDITION',\n",
              "       'WEATHER_CONDITION', 'LIGHTING_CONDITION', 'FIRST_CRASH_TYPE',\n",
              "       'TRAFFICWAY_TYPE', 'LANE_CNT', 'ALIGNMENT', 'ROADWAY_SURFACE_COND',\n",
              "       'ROAD_DEFECT', 'REPORT_TYPE', 'CRASH_TYPE', 'INTERSECTION_RELATED_I',\n",
              "       'NOT_RIGHT_OF_WAY_I', 'HIT_AND_RUN_I', 'DAMAGE', 'DATE_POLICE_NOTIFIED',\n",
              "       'PRIM_CONTRIBUTORY_CAUSE', 'SEC_CONTRIBUTORY_CAUSE', 'STREET_NO',\n",
              "       'STREET_DIRECTION', 'STREET_NAME', 'BEAT_OF_OCCURRENCE',\n",
              "       'PHOTOS_TAKEN_I', 'STATEMENTS_TAKEN_I', 'DOORING_I', 'WORK_ZONE_I',\n",
              "       'WORK_ZONE_TYPE', 'WORKERS_PRESENT_I', 'NUM_UNITS',\n",
              "       'MOST_SEVERE_INJURY', 'INJURIES_TOTAL', 'INJURIES_FATAL',\n",
              "       'INJURIES_INCAPACITATING', 'INJURIES_NON_INCAPACITATING',\n",
              "       'INJURIES_REPORTED_NOT_EVIDENT', 'INJURIES_NO_INDICATION',\n",
              "       'INJURIES_UNKNOWN', 'CRASH_HOUR', 'CRASH_DAY_OF_WEEK', 'CRASH_MONTH',\n",
              "       'LATITUDE', 'LONGITUDE', 'LOCATION'],\n",
              "      dtype='object')"
            ]
          },
          "metadata": {},
          "execution_count": 5
        }
      ],
      "source": [
        "df.columns"
      ]
    },
    {
      "cell_type": "markdown",
      "metadata": {
        "id": "rdr8lPvytxOd"
      },
      "source": [
        "## Check for any Missing values"
      ]
    },
    {
      "cell_type": "code",
      "execution_count": 6,
      "metadata": {
        "colab": {
          "base_uri": "https://localhost:8080/"
        },
        "id": "2vLQXXhltxOd",
        "outputId": "1cc90d99-17bf-42e4-9bf4-60ff0bbb89a3"
      },
      "outputs": [
        {
          "output_type": "stream",
          "name": "stdout",
          "text": [
            "CRASH_DATE_EST_I                 13291\n",
            "LANE_CNT                         11394\n",
            "REPORT_TYPE                        342\n",
            "INTERSECTION_RELATED_I           11313\n",
            "NOT_RIGHT_OF_WAY_I               13657\n",
            "HIT_AND_RUN_I                    10489\n",
            "PRIM_CONTRIBUTORY_CAUSE              1\n",
            "SEC_CONTRIBUTORY_CAUSE               1\n",
            "STREET_NO                            1\n",
            "STREET_DIRECTION                     4\n",
            "STREET_NAME                          2\n",
            "BEAT_OF_OCCURRENCE                   3\n",
            "PHOTOS_TAKEN_I                   14120\n",
            "STATEMENTS_TAKEN_I               13957\n",
            "DOORING_I                        14259\n",
            "WORK_ZONE_I                      14201\n",
            "WORK_ZONE_TYPE                   14214\n",
            "WORKERS_PRESENT_I                14260\n",
            "NUM_UNITS                            1\n",
            "MOST_SEVERE_INJURY                  31\n",
            "INJURIES_TOTAL                      31\n",
            "INJURIES_FATAL                      31\n",
            "INJURIES_INCAPACITATING             31\n",
            "INJURIES_NON_INCAPACITATING         31\n",
            "INJURIES_REPORTED_NOT_EVIDENT       31\n",
            "INJURIES_NO_INDICATION              31\n",
            "INJURIES_UNKNOWN                    31\n",
            "CRASH_HOUR                           1\n",
            "CRASH_DAY_OF_WEEK                    1\n",
            "CRASH_MONTH                          1\n",
            "LATITUDE                          5913\n",
            "LONGITUDE                         5913\n",
            "LOCATION                          5913\n",
            "dtype: int64\n"
          ]
        }
      ],
      "source": [
        "missing_values = df.isnull().sum()\n",
        "print(missing_values[missing_values > 0])"
      ]
    },
    {
      "cell_type": "markdown",
      "metadata": {
        "id": "ekx24vLYtxOd"
      },
      "source": [
        "## Check for Duplicte values"
      ]
    },
    {
      "cell_type": "code",
      "execution_count": 7,
      "metadata": {
        "colab": {
          "base_uri": "https://localhost:8080/"
        },
        "id": "UKl8WAV7txOd",
        "outputId": "273109ac-1805-49c9-dc68-e9af8682f9cb"
      },
      "outputs": [
        {
          "output_type": "stream",
          "name": "stdout",
          "text": [
            "Empty DataFrame\n",
            "Columns: [CRASH_RECORD_ID, CRASH_DATE_EST_I, CRASH_DATE, POSTED_SPEED_LIMIT, TRAFFIC_CONTROL_DEVICE, DEVICE_CONDITION, WEATHER_CONDITION, LIGHTING_CONDITION, FIRST_CRASH_TYPE, TRAFFICWAY_TYPE, LANE_CNT, ALIGNMENT, ROADWAY_SURFACE_COND, ROAD_DEFECT, REPORT_TYPE, CRASH_TYPE, INTERSECTION_RELATED_I, NOT_RIGHT_OF_WAY_I, HIT_AND_RUN_I, DAMAGE, DATE_POLICE_NOTIFIED, PRIM_CONTRIBUTORY_CAUSE, SEC_CONTRIBUTORY_CAUSE, STREET_NO, STREET_DIRECTION, STREET_NAME, BEAT_OF_OCCURRENCE, PHOTOS_TAKEN_I, STATEMENTS_TAKEN_I, DOORING_I, WORK_ZONE_I, WORK_ZONE_TYPE, WORKERS_PRESENT_I, NUM_UNITS, MOST_SEVERE_INJURY, INJURIES_TOTAL, INJURIES_FATAL, INJURIES_INCAPACITATING, INJURIES_NON_INCAPACITATING, INJURIES_REPORTED_NOT_EVIDENT, INJURIES_NO_INDICATION, INJURIES_UNKNOWN, CRASH_HOUR, CRASH_DAY_OF_WEEK, CRASH_MONTH, LATITUDE, LONGITUDE, LOCATION]\n",
            "Index: []\n",
            "\n",
            "[0 rows x 48 columns]\n"
          ]
        }
      ],
      "source": [
        "duplicate_rows = df[df.duplicated()]\n",
        "print(duplicate_rows)"
      ]
    },
    {
      "cell_type": "markdown",
      "source": [
        "## Dealing with missing values"
      ],
      "metadata": {
        "id": "LbvxmeSt5Nq8"
      }
    },
    {
      "cell_type": "code",
      "source": [
        "df['WEATHER_CONDITION'].fillna(df['WEATHER_CONDITION'].mode()[0], inplace=True)\n",
        "df['LIGHTING_CONDITION'].fillna(df['LIGHTING_CONDITION'].mode()[0], inplace=True)\n",
        "df['ROADWAY_SURFACE_COND'].fillna(df['ROADWAY_SURFACE_COND'].mode()[0], inplace=True)\n",
        "df['TRAFFIC_CONTROL_DEVICE'].fillna(df['TRAFFIC_CONTROL_DEVICE'].mode()[0], inplace=True)\n",
        "df['DEVICE_CONDITION'].fillna(df['DEVICE_CONDITION'].mode()[0], inplace=True)\n",
        "df['DEVICE_CONDITION'].fillna(df['DEVICE_CONDITION'].mode()[0], inplace=True)\n",
        "df['INTERSECTION_RELATED_I'].fillna(df['INTERSECTION_RELATED_I'].mode()[0], inplace=True)\n",
        "df['NOT_RIGHT_OF_WAY_I'].fillna(df['NOT_RIGHT_OF_WAY_I'].mode()[0], inplace=True)\n",
        "df['MOST_SEVERE_INJURY'].fillna(df['MOST_SEVERE_INJURY'].mode()[0], inplace=True)\n",
        "df.drop(['PHOTOS_TAKEN_I', 'STATEMENTS_TAKEN_I', 'DOORING_I', 'WORK_ZONE_I',\n",
        "         'WORK_ZONE_TYPE', 'WORKERS_PRESENT_I', 'STREET_NO', 'STREET_DIRECTION',\n",
        "         'STREET_NAME', 'BEAT_OF_OCCURRENCE','CRASH_DATE_EST_I'], axis=1, inplace=True)\n",
        "df['HIT_AND_RUN_I'].fillna(df['HIT_AND_RUN_I'].mode()[0], inplace=True)\n",
        "df['LANE_CNT'].fillna(df['LANE_CNT'].median(), inplace=True)\n",
        "df['LATITUDE'].fillna(df['LATITUDE'].median(), inplace=True)\n",
        "df['LONGITUDE'].fillna(df['LONGITUDE'].median(), inplace=True)\n",
        "injury_columns = [\n",
        "    'INJURIES_TOTAL', 'INJURIES_FATAL', 'INJURIES_INCAPACITATING',\n",
        "    'INJURIES_NON_INCAPACITATING', 'INJURIES_REPORTED_NOT_EVIDENT',\n",
        "    'INJURIES_NO_INDICATION', 'INJURIES_UNKNOWN'\n",
        "]\n",
        "df[injury_columns] = df[injury_columns].fillna(0)\n",
        "df['LOCATION'].fillna(method='ffill', inplace=True)\n",
        "df['REPORT_TYPE'].fillna(df['REPORT_TYPE'].mode()[0], inplace=True)\n",
        "df['LOCATION'].fillna(method='bfill', inplace=True)"
      ],
      "metadata": {
        "colab": {
          "base_uri": "https://localhost:8080/"
        },
        "id": "6n0SwKiB5Dmr",
        "outputId": "7e1980e6-c432-42b1-c575-60a37c231254"
      },
      "execution_count": 8,
      "outputs": [
        {
          "output_type": "stream",
          "name": "stderr",
          "text": [
            "<ipython-input-8-f502b43b8812>:1: FutureWarning: A value is trying to be set on a copy of a DataFrame or Series through chained assignment using an inplace method.\n",
            "The behavior will change in pandas 3.0. This inplace method will never work because the intermediate object on which we are setting values always behaves as a copy.\n",
            "\n",
            "For example, when doing 'df[col].method(value, inplace=True)', try using 'df.method({col: value}, inplace=True)' or df[col] = df[col].method(value) instead, to perform the operation inplace on the original object.\n",
            "\n",
            "\n",
            "  df['WEATHER_CONDITION'].fillna(df['WEATHER_CONDITION'].mode()[0], inplace=True)\n",
            "<ipython-input-8-f502b43b8812>:2: FutureWarning: A value is trying to be set on a copy of a DataFrame or Series through chained assignment using an inplace method.\n",
            "The behavior will change in pandas 3.0. This inplace method will never work because the intermediate object on which we are setting values always behaves as a copy.\n",
            "\n",
            "For example, when doing 'df[col].method(value, inplace=True)', try using 'df.method({col: value}, inplace=True)' or df[col] = df[col].method(value) instead, to perform the operation inplace on the original object.\n",
            "\n",
            "\n",
            "  df['LIGHTING_CONDITION'].fillna(df['LIGHTING_CONDITION'].mode()[0], inplace=True)\n",
            "<ipython-input-8-f502b43b8812>:3: FutureWarning: A value is trying to be set on a copy of a DataFrame or Series through chained assignment using an inplace method.\n",
            "The behavior will change in pandas 3.0. This inplace method will never work because the intermediate object on which we are setting values always behaves as a copy.\n",
            "\n",
            "For example, when doing 'df[col].method(value, inplace=True)', try using 'df.method({col: value}, inplace=True)' or df[col] = df[col].method(value) instead, to perform the operation inplace on the original object.\n",
            "\n",
            "\n",
            "  df['ROADWAY_SURFACE_COND'].fillna(df['ROADWAY_SURFACE_COND'].mode()[0], inplace=True)\n",
            "<ipython-input-8-f502b43b8812>:4: FutureWarning: A value is trying to be set on a copy of a DataFrame or Series through chained assignment using an inplace method.\n",
            "The behavior will change in pandas 3.0. This inplace method will never work because the intermediate object on which we are setting values always behaves as a copy.\n",
            "\n",
            "For example, when doing 'df[col].method(value, inplace=True)', try using 'df.method({col: value}, inplace=True)' or df[col] = df[col].method(value) instead, to perform the operation inplace on the original object.\n",
            "\n",
            "\n",
            "  df['TRAFFIC_CONTROL_DEVICE'].fillna(df['TRAFFIC_CONTROL_DEVICE'].mode()[0], inplace=True)\n",
            "<ipython-input-8-f502b43b8812>:5: FutureWarning: A value is trying to be set on a copy of a DataFrame or Series through chained assignment using an inplace method.\n",
            "The behavior will change in pandas 3.0. This inplace method will never work because the intermediate object on which we are setting values always behaves as a copy.\n",
            "\n",
            "For example, when doing 'df[col].method(value, inplace=True)', try using 'df.method({col: value}, inplace=True)' or df[col] = df[col].method(value) instead, to perform the operation inplace on the original object.\n",
            "\n",
            "\n",
            "  df['DEVICE_CONDITION'].fillna(df['DEVICE_CONDITION'].mode()[0], inplace=True)\n",
            "<ipython-input-8-f502b43b8812>:6: FutureWarning: A value is trying to be set on a copy of a DataFrame or Series through chained assignment using an inplace method.\n",
            "The behavior will change in pandas 3.0. This inplace method will never work because the intermediate object on which we are setting values always behaves as a copy.\n",
            "\n",
            "For example, when doing 'df[col].method(value, inplace=True)', try using 'df.method({col: value}, inplace=True)' or df[col] = df[col].method(value) instead, to perform the operation inplace on the original object.\n",
            "\n",
            "\n",
            "  df['DEVICE_CONDITION'].fillna(df['DEVICE_CONDITION'].mode()[0], inplace=True)\n",
            "<ipython-input-8-f502b43b8812>:7: FutureWarning: A value is trying to be set on a copy of a DataFrame or Series through chained assignment using an inplace method.\n",
            "The behavior will change in pandas 3.0. This inplace method will never work because the intermediate object on which we are setting values always behaves as a copy.\n",
            "\n",
            "For example, when doing 'df[col].method(value, inplace=True)', try using 'df.method({col: value}, inplace=True)' or df[col] = df[col].method(value) instead, to perform the operation inplace on the original object.\n",
            "\n",
            "\n",
            "  df['INTERSECTION_RELATED_I'].fillna(df['INTERSECTION_RELATED_I'].mode()[0], inplace=True)\n",
            "<ipython-input-8-f502b43b8812>:8: FutureWarning: A value is trying to be set on a copy of a DataFrame or Series through chained assignment using an inplace method.\n",
            "The behavior will change in pandas 3.0. This inplace method will never work because the intermediate object on which we are setting values always behaves as a copy.\n",
            "\n",
            "For example, when doing 'df[col].method(value, inplace=True)', try using 'df.method({col: value}, inplace=True)' or df[col] = df[col].method(value) instead, to perform the operation inplace on the original object.\n",
            "\n",
            "\n",
            "  df['NOT_RIGHT_OF_WAY_I'].fillna(df['NOT_RIGHT_OF_WAY_I'].mode()[0], inplace=True)\n",
            "<ipython-input-8-f502b43b8812>:9: FutureWarning: A value is trying to be set on a copy of a DataFrame or Series through chained assignment using an inplace method.\n",
            "The behavior will change in pandas 3.0. This inplace method will never work because the intermediate object on which we are setting values always behaves as a copy.\n",
            "\n",
            "For example, when doing 'df[col].method(value, inplace=True)', try using 'df.method({col: value}, inplace=True)' or df[col] = df[col].method(value) instead, to perform the operation inplace on the original object.\n",
            "\n",
            "\n",
            "  df['MOST_SEVERE_INJURY'].fillna(df['MOST_SEVERE_INJURY'].mode()[0], inplace=True)\n",
            "<ipython-input-8-f502b43b8812>:13: FutureWarning: A value is trying to be set on a copy of a DataFrame or Series through chained assignment using an inplace method.\n",
            "The behavior will change in pandas 3.0. This inplace method will never work because the intermediate object on which we are setting values always behaves as a copy.\n",
            "\n",
            "For example, when doing 'df[col].method(value, inplace=True)', try using 'df.method({col: value}, inplace=True)' or df[col] = df[col].method(value) instead, to perform the operation inplace on the original object.\n",
            "\n",
            "\n",
            "  df['HIT_AND_RUN_I'].fillna(df['HIT_AND_RUN_I'].mode()[0], inplace=True)\n",
            "<ipython-input-8-f502b43b8812>:14: FutureWarning: A value is trying to be set on a copy of a DataFrame or Series through chained assignment using an inplace method.\n",
            "The behavior will change in pandas 3.0. This inplace method will never work because the intermediate object on which we are setting values always behaves as a copy.\n",
            "\n",
            "For example, when doing 'df[col].method(value, inplace=True)', try using 'df.method({col: value}, inplace=True)' or df[col] = df[col].method(value) instead, to perform the operation inplace on the original object.\n",
            "\n",
            "\n",
            "  df['LANE_CNT'].fillna(df['LANE_CNT'].median(), inplace=True)\n",
            "<ipython-input-8-f502b43b8812>:15: FutureWarning: A value is trying to be set on a copy of a DataFrame or Series through chained assignment using an inplace method.\n",
            "The behavior will change in pandas 3.0. This inplace method will never work because the intermediate object on which we are setting values always behaves as a copy.\n",
            "\n",
            "For example, when doing 'df[col].method(value, inplace=True)', try using 'df.method({col: value}, inplace=True)' or df[col] = df[col].method(value) instead, to perform the operation inplace on the original object.\n",
            "\n",
            "\n",
            "  df['LATITUDE'].fillna(df['LATITUDE'].median(), inplace=True)\n",
            "<ipython-input-8-f502b43b8812>:16: FutureWarning: A value is trying to be set on a copy of a DataFrame or Series through chained assignment using an inplace method.\n",
            "The behavior will change in pandas 3.0. This inplace method will never work because the intermediate object on which we are setting values always behaves as a copy.\n",
            "\n",
            "For example, when doing 'df[col].method(value, inplace=True)', try using 'df.method({col: value}, inplace=True)' or df[col] = df[col].method(value) instead, to perform the operation inplace on the original object.\n",
            "\n",
            "\n",
            "  df['LONGITUDE'].fillna(df['LONGITUDE'].median(), inplace=True)\n",
            "<ipython-input-8-f502b43b8812>:23: FutureWarning: A value is trying to be set on a copy of a DataFrame or Series through chained assignment using an inplace method.\n",
            "The behavior will change in pandas 3.0. This inplace method will never work because the intermediate object on which we are setting values always behaves as a copy.\n",
            "\n",
            "For example, when doing 'df[col].method(value, inplace=True)', try using 'df.method({col: value}, inplace=True)' or df[col] = df[col].method(value) instead, to perform the operation inplace on the original object.\n",
            "\n",
            "\n",
            "  df['LOCATION'].fillna(method='ffill', inplace=True)\n",
            "<ipython-input-8-f502b43b8812>:23: FutureWarning: Series.fillna with 'method' is deprecated and will raise in a future version. Use obj.ffill() or obj.bfill() instead.\n",
            "  df['LOCATION'].fillna(method='ffill', inplace=True)\n",
            "<ipython-input-8-f502b43b8812>:24: FutureWarning: A value is trying to be set on a copy of a DataFrame or Series through chained assignment using an inplace method.\n",
            "The behavior will change in pandas 3.0. This inplace method will never work because the intermediate object on which we are setting values always behaves as a copy.\n",
            "\n",
            "For example, when doing 'df[col].method(value, inplace=True)', try using 'df.method({col: value}, inplace=True)' or df[col] = df[col].method(value) instead, to perform the operation inplace on the original object.\n",
            "\n",
            "\n",
            "  df['REPORT_TYPE'].fillna(df['REPORT_TYPE'].mode()[0], inplace=True)\n",
            "<ipython-input-8-f502b43b8812>:25: FutureWarning: Series.fillna with 'method' is deprecated and will raise in a future version. Use obj.ffill() or obj.bfill() instead.\n",
            "  df['LOCATION'].fillna(method='bfill', inplace=True)\n"
          ]
        }
      ]
    },
    {
      "cell_type": "code",
      "source": [
        "missing_values = df.isnull().sum()\n",
        "print(missing_values[missing_values > 0])"
      ],
      "metadata": {
        "id": "-3w7eniD5Ya8",
        "outputId": "ef34cbe3-e473-4832-be45-314dbefb8d83",
        "colab": {
          "base_uri": "https://localhost:8080/"
        }
      },
      "execution_count": 9,
      "outputs": [
        {
          "output_type": "stream",
          "name": "stdout",
          "text": [
            "PRIM_CONTRIBUTORY_CAUSE    1\n",
            "SEC_CONTRIBUTORY_CAUSE     1\n",
            "NUM_UNITS                  1\n",
            "CRASH_HOUR                 1\n",
            "CRASH_DAY_OF_WEEK          1\n",
            "CRASH_MONTH                1\n",
            "dtype: int64\n"
          ]
        }
      ]
    },
    {
      "cell_type": "markdown",
      "source": [
        "## Feature Engineering"
      ],
      "metadata": {
        "id": "O3YQhpAxmVt1"
      }
    },
    {
      "cell_type": "markdown",
      "source": [
        "The dataset has pre-engineered features, such as CRASH_HOUR and CRASH_MONTH. To identify the top 10 features most relevant to our target variable, we will empdeployloy a machine learning model.\n",
        "\n",
        "In the following cell, we will implement a Logistic Regression model with preprocessing pipelines to efficiently handle our large dataset. This approach will also prepare both categorical and numerical features for modeling."
      ],
      "metadata": {
        "id": "qH7Rn1d3oobs"
      }
    },
    {
      "cell_type": "code",
      "source": [
        "\n",
        "df_sampled = df.sample(frac=0.01, random_state=42)\n",
        "\n",
        "X = df_sampled.drop('PRIM_CONTRIBUTORY_CAUSE', axis=1)\n",
        "y = df_sampled['PRIM_CONTRIBUTORY_CAUSE']\n",
        "\n",
        "\n",
        "categorical_cols = X.select_dtypes(include=['object']).columns\n",
        "numerical_cols = X.select_dtypes(exclude=['object']).columns\n",
        "\n",
        "\n",
        "preprocessor = ColumnTransformer(\n",
        "    transformers=[\n",
        "        ('num', SimpleImputer(strategy='median'), numerical_cols),\n",
        "        ('cat', Pipeline(steps=[\n",
        "            ('imputer', SimpleImputer(strategy='most_frequent')),\n",
        "            ('onehot', OneHotEncoder(handle_unknown='ignore'))\n",
        "        ]), categorical_cols)\n",
        "    ])\n",
        "\n",
        "\n",
        "X_train, X_test, y_train, y_test = train_test_split(X, y, test_size=0.2, random_state=42)\n",
        "\n",
        "\n",
        "X_train = preprocessor.fit_transform(X_train)\n",
        "X_test = preprocessor.transform(X_test)\n",
        "\n",
        "model = LogisticRegression(max_iter=100, random_state=42, n_jobs=-1)\n",
        "model.fit(X_train, y_train)"
      ],
      "metadata": {
        "colab": {
          "base_uri": "https://localhost:8080/",
          "height": 79
        },
        "id": "erdmVhhDo6YY",
        "outputId": "02317dd0-77c2-469a-d3d9-6af9e9b11a8d"
      },
      "execution_count": 15,
      "outputs": [
        {
          "output_type": "execute_result",
          "data": {
            "text/plain": [
              "LogisticRegression(n_jobs=-1, random_state=42)"
            ],
            "text/html": [
              "<style>#sk-container-id-3 {\n",
              "  /* Definition of color scheme common for light and dark mode */\n",
              "  --sklearn-color-text: black;\n",
              "  --sklearn-color-line: gray;\n",
              "  /* Definition of color scheme for unfitted estimators */\n",
              "  --sklearn-color-unfitted-level-0: #fff5e6;\n",
              "  --sklearn-color-unfitted-level-1: #f6e4d2;\n",
              "  --sklearn-color-unfitted-level-2: #ffe0b3;\n",
              "  --sklearn-color-unfitted-level-3: chocolate;\n",
              "  /* Definition of color scheme for fitted estimators */\n",
              "  --sklearn-color-fitted-level-0: #f0f8ff;\n",
              "  --sklearn-color-fitted-level-1: #d4ebff;\n",
              "  --sklearn-color-fitted-level-2: #b3dbfd;\n",
              "  --sklearn-color-fitted-level-3: cornflowerblue;\n",
              "\n",
              "  /* Specific color for light theme */\n",
              "  --sklearn-color-text-on-default-background: var(--sg-text-color, var(--theme-code-foreground, var(--jp-content-font-color1, black)));\n",
              "  --sklearn-color-background: var(--sg-background-color, var(--theme-background, var(--jp-layout-color0, white)));\n",
              "  --sklearn-color-border-box: var(--sg-text-color, var(--theme-code-foreground, var(--jp-content-font-color1, black)));\n",
              "  --sklearn-color-icon: #696969;\n",
              "\n",
              "  @media (prefers-color-scheme: dark) {\n",
              "    /* Redefinition of color scheme for dark theme */\n",
              "    --sklearn-color-text-on-default-background: var(--sg-text-color, var(--theme-code-foreground, var(--jp-content-font-color1, white)));\n",
              "    --sklearn-color-background: var(--sg-background-color, var(--theme-background, var(--jp-layout-color0, #111)));\n",
              "    --sklearn-color-border-box: var(--sg-text-color, var(--theme-code-foreground, var(--jp-content-font-color1, white)));\n",
              "    --sklearn-color-icon: #878787;\n",
              "  }\n",
              "}\n",
              "\n",
              "#sk-container-id-3 {\n",
              "  color: var(--sklearn-color-text);\n",
              "}\n",
              "\n",
              "#sk-container-id-3 pre {\n",
              "  padding: 0;\n",
              "}\n",
              "\n",
              "#sk-container-id-3 input.sk-hidden--visually {\n",
              "  border: 0;\n",
              "  clip: rect(1px 1px 1px 1px);\n",
              "  clip: rect(1px, 1px, 1px, 1px);\n",
              "  height: 1px;\n",
              "  margin: -1px;\n",
              "  overflow: hidden;\n",
              "  padding: 0;\n",
              "  position: absolute;\n",
              "  width: 1px;\n",
              "}\n",
              "\n",
              "#sk-container-id-3 div.sk-dashed-wrapped {\n",
              "  border: 1px dashed var(--sklearn-color-line);\n",
              "  margin: 0 0.4em 0.5em 0.4em;\n",
              "  box-sizing: border-box;\n",
              "  padding-bottom: 0.4em;\n",
              "  background-color: var(--sklearn-color-background);\n",
              "}\n",
              "\n",
              "#sk-container-id-3 div.sk-container {\n",
              "  /* jupyter's `normalize.less` sets `[hidden] { display: none; }`\n",
              "     but bootstrap.min.css set `[hidden] { display: none !important; }`\n",
              "     so we also need the `!important` here to be able to override the\n",
              "     default hidden behavior on the sphinx rendered scikit-learn.org.\n",
              "     See: https://github.com/scikit-learn/scikit-learn/issues/21755 */\n",
              "  display: inline-block !important;\n",
              "  position: relative;\n",
              "}\n",
              "\n",
              "#sk-container-id-3 div.sk-text-repr-fallback {\n",
              "  display: none;\n",
              "}\n",
              "\n",
              "div.sk-parallel-item,\n",
              "div.sk-serial,\n",
              "div.sk-item {\n",
              "  /* draw centered vertical line to link estimators */\n",
              "  background-image: linear-gradient(var(--sklearn-color-text-on-default-background), var(--sklearn-color-text-on-default-background));\n",
              "  background-size: 2px 100%;\n",
              "  background-repeat: no-repeat;\n",
              "  background-position: center center;\n",
              "}\n",
              "\n",
              "/* Parallel-specific style estimator block */\n",
              "\n",
              "#sk-container-id-3 div.sk-parallel-item::after {\n",
              "  content: \"\";\n",
              "  width: 100%;\n",
              "  border-bottom: 2px solid var(--sklearn-color-text-on-default-background);\n",
              "  flex-grow: 1;\n",
              "}\n",
              "\n",
              "#sk-container-id-3 div.sk-parallel {\n",
              "  display: flex;\n",
              "  align-items: stretch;\n",
              "  justify-content: center;\n",
              "  background-color: var(--sklearn-color-background);\n",
              "  position: relative;\n",
              "}\n",
              "\n",
              "#sk-container-id-3 div.sk-parallel-item {\n",
              "  display: flex;\n",
              "  flex-direction: column;\n",
              "}\n",
              "\n",
              "#sk-container-id-3 div.sk-parallel-item:first-child::after {\n",
              "  align-self: flex-end;\n",
              "  width: 50%;\n",
              "}\n",
              "\n",
              "#sk-container-id-3 div.sk-parallel-item:last-child::after {\n",
              "  align-self: flex-start;\n",
              "  width: 50%;\n",
              "}\n",
              "\n",
              "#sk-container-id-3 div.sk-parallel-item:only-child::after {\n",
              "  width: 0;\n",
              "}\n",
              "\n",
              "/* Serial-specific style estimator block */\n",
              "\n",
              "#sk-container-id-3 div.sk-serial {\n",
              "  display: flex;\n",
              "  flex-direction: column;\n",
              "  align-items: center;\n",
              "  background-color: var(--sklearn-color-background);\n",
              "  padding-right: 1em;\n",
              "  padding-left: 1em;\n",
              "}\n",
              "\n",
              "\n",
              "/* Toggleable style: style used for estimator/Pipeline/ColumnTransformer box that is\n",
              "clickable and can be expanded/collapsed.\n",
              "- Pipeline and ColumnTransformer use this feature and define the default style\n",
              "- Estimators will overwrite some part of the style using the `sk-estimator` class\n",
              "*/\n",
              "\n",
              "/* Pipeline and ColumnTransformer style (default) */\n",
              "\n",
              "#sk-container-id-3 div.sk-toggleable {\n",
              "  /* Default theme specific background. It is overwritten whether we have a\n",
              "  specific estimator or a Pipeline/ColumnTransformer */\n",
              "  background-color: var(--sklearn-color-background);\n",
              "}\n",
              "\n",
              "/* Toggleable label */\n",
              "#sk-container-id-3 label.sk-toggleable__label {\n",
              "  cursor: pointer;\n",
              "  display: block;\n",
              "  width: 100%;\n",
              "  margin-bottom: 0;\n",
              "  padding: 0.5em;\n",
              "  box-sizing: border-box;\n",
              "  text-align: center;\n",
              "}\n",
              "\n",
              "#sk-container-id-3 label.sk-toggleable__label-arrow:before {\n",
              "  /* Arrow on the left of the label */\n",
              "  content: \"▸\";\n",
              "  float: left;\n",
              "  margin-right: 0.25em;\n",
              "  color: var(--sklearn-color-icon);\n",
              "}\n",
              "\n",
              "#sk-container-id-3 label.sk-toggleable__label-arrow:hover:before {\n",
              "  color: var(--sklearn-color-text);\n",
              "}\n",
              "\n",
              "/* Toggleable content - dropdown */\n",
              "\n",
              "#sk-container-id-3 div.sk-toggleable__content {\n",
              "  max-height: 0;\n",
              "  max-width: 0;\n",
              "  overflow: hidden;\n",
              "  text-align: left;\n",
              "  /* unfitted */\n",
              "  background-color: var(--sklearn-color-unfitted-level-0);\n",
              "}\n",
              "\n",
              "#sk-container-id-3 div.sk-toggleable__content.fitted {\n",
              "  /* fitted */\n",
              "  background-color: var(--sklearn-color-fitted-level-0);\n",
              "}\n",
              "\n",
              "#sk-container-id-3 div.sk-toggleable__content pre {\n",
              "  margin: 0.2em;\n",
              "  border-radius: 0.25em;\n",
              "  color: var(--sklearn-color-text);\n",
              "  /* unfitted */\n",
              "  background-color: var(--sklearn-color-unfitted-level-0);\n",
              "}\n",
              "\n",
              "#sk-container-id-3 div.sk-toggleable__content.fitted pre {\n",
              "  /* unfitted */\n",
              "  background-color: var(--sklearn-color-fitted-level-0);\n",
              "}\n",
              "\n",
              "#sk-container-id-3 input.sk-toggleable__control:checked~div.sk-toggleable__content {\n",
              "  /* Expand drop-down */\n",
              "  max-height: 200px;\n",
              "  max-width: 100%;\n",
              "  overflow: auto;\n",
              "}\n",
              "\n",
              "#sk-container-id-3 input.sk-toggleable__control:checked~label.sk-toggleable__label-arrow:before {\n",
              "  content: \"▾\";\n",
              "}\n",
              "\n",
              "/* Pipeline/ColumnTransformer-specific style */\n",
              "\n",
              "#sk-container-id-3 div.sk-label input.sk-toggleable__control:checked~label.sk-toggleable__label {\n",
              "  color: var(--sklearn-color-text);\n",
              "  background-color: var(--sklearn-color-unfitted-level-2);\n",
              "}\n",
              "\n",
              "#sk-container-id-3 div.sk-label.fitted input.sk-toggleable__control:checked~label.sk-toggleable__label {\n",
              "  background-color: var(--sklearn-color-fitted-level-2);\n",
              "}\n",
              "\n",
              "/* Estimator-specific style */\n",
              "\n",
              "/* Colorize estimator box */\n",
              "#sk-container-id-3 div.sk-estimator input.sk-toggleable__control:checked~label.sk-toggleable__label {\n",
              "  /* unfitted */\n",
              "  background-color: var(--sklearn-color-unfitted-level-2);\n",
              "}\n",
              "\n",
              "#sk-container-id-3 div.sk-estimator.fitted input.sk-toggleable__control:checked~label.sk-toggleable__label {\n",
              "  /* fitted */\n",
              "  background-color: var(--sklearn-color-fitted-level-2);\n",
              "}\n",
              "\n",
              "#sk-container-id-3 div.sk-label label.sk-toggleable__label,\n",
              "#sk-container-id-3 div.sk-label label {\n",
              "  /* The background is the default theme color */\n",
              "  color: var(--sklearn-color-text-on-default-background);\n",
              "}\n",
              "\n",
              "/* On hover, darken the color of the background */\n",
              "#sk-container-id-3 div.sk-label:hover label.sk-toggleable__label {\n",
              "  color: var(--sklearn-color-text);\n",
              "  background-color: var(--sklearn-color-unfitted-level-2);\n",
              "}\n",
              "\n",
              "/* Label box, darken color on hover, fitted */\n",
              "#sk-container-id-3 div.sk-label.fitted:hover label.sk-toggleable__label.fitted {\n",
              "  color: var(--sklearn-color-text);\n",
              "  background-color: var(--sklearn-color-fitted-level-2);\n",
              "}\n",
              "\n",
              "/* Estimator label */\n",
              "\n",
              "#sk-container-id-3 div.sk-label label {\n",
              "  font-family: monospace;\n",
              "  font-weight: bold;\n",
              "  display: inline-block;\n",
              "  line-height: 1.2em;\n",
              "}\n",
              "\n",
              "#sk-container-id-3 div.sk-label-container {\n",
              "  text-align: center;\n",
              "}\n",
              "\n",
              "/* Estimator-specific */\n",
              "#sk-container-id-3 div.sk-estimator {\n",
              "  font-family: monospace;\n",
              "  border: 1px dotted var(--sklearn-color-border-box);\n",
              "  border-radius: 0.25em;\n",
              "  box-sizing: border-box;\n",
              "  margin-bottom: 0.5em;\n",
              "  /* unfitted */\n",
              "  background-color: var(--sklearn-color-unfitted-level-0);\n",
              "}\n",
              "\n",
              "#sk-container-id-3 div.sk-estimator.fitted {\n",
              "  /* fitted */\n",
              "  background-color: var(--sklearn-color-fitted-level-0);\n",
              "}\n",
              "\n",
              "/* on hover */\n",
              "#sk-container-id-3 div.sk-estimator:hover {\n",
              "  /* unfitted */\n",
              "  background-color: var(--sklearn-color-unfitted-level-2);\n",
              "}\n",
              "\n",
              "#sk-container-id-3 div.sk-estimator.fitted:hover {\n",
              "  /* fitted */\n",
              "  background-color: var(--sklearn-color-fitted-level-2);\n",
              "}\n",
              "\n",
              "/* Specification for estimator info (e.g. \"i\" and \"?\") */\n",
              "\n",
              "/* Common style for \"i\" and \"?\" */\n",
              "\n",
              ".sk-estimator-doc-link,\n",
              "a:link.sk-estimator-doc-link,\n",
              "a:visited.sk-estimator-doc-link {\n",
              "  float: right;\n",
              "  font-size: smaller;\n",
              "  line-height: 1em;\n",
              "  font-family: monospace;\n",
              "  background-color: var(--sklearn-color-background);\n",
              "  border-radius: 1em;\n",
              "  height: 1em;\n",
              "  width: 1em;\n",
              "  text-decoration: none !important;\n",
              "  margin-left: 1ex;\n",
              "  /* unfitted */\n",
              "  border: var(--sklearn-color-unfitted-level-1) 1pt solid;\n",
              "  color: var(--sklearn-color-unfitted-level-1);\n",
              "}\n",
              "\n",
              ".sk-estimator-doc-link.fitted,\n",
              "a:link.sk-estimator-doc-link.fitted,\n",
              "a:visited.sk-estimator-doc-link.fitted {\n",
              "  /* fitted */\n",
              "  border: var(--sklearn-color-fitted-level-1) 1pt solid;\n",
              "  color: var(--sklearn-color-fitted-level-1);\n",
              "}\n",
              "\n",
              "/* On hover */\n",
              "div.sk-estimator:hover .sk-estimator-doc-link:hover,\n",
              ".sk-estimator-doc-link:hover,\n",
              "div.sk-label-container:hover .sk-estimator-doc-link:hover,\n",
              ".sk-estimator-doc-link:hover {\n",
              "  /* unfitted */\n",
              "  background-color: var(--sklearn-color-unfitted-level-3);\n",
              "  color: var(--sklearn-color-background);\n",
              "  text-decoration: none;\n",
              "}\n",
              "\n",
              "div.sk-estimator.fitted:hover .sk-estimator-doc-link.fitted:hover,\n",
              ".sk-estimator-doc-link.fitted:hover,\n",
              "div.sk-label-container:hover .sk-estimator-doc-link.fitted:hover,\n",
              ".sk-estimator-doc-link.fitted:hover {\n",
              "  /* fitted */\n",
              "  background-color: var(--sklearn-color-fitted-level-3);\n",
              "  color: var(--sklearn-color-background);\n",
              "  text-decoration: none;\n",
              "}\n",
              "\n",
              "/* Span, style for the box shown on hovering the info icon */\n",
              ".sk-estimator-doc-link span {\n",
              "  display: none;\n",
              "  z-index: 9999;\n",
              "  position: relative;\n",
              "  font-weight: normal;\n",
              "  right: .2ex;\n",
              "  padding: .5ex;\n",
              "  margin: .5ex;\n",
              "  width: min-content;\n",
              "  min-width: 20ex;\n",
              "  max-width: 50ex;\n",
              "  color: var(--sklearn-color-text);\n",
              "  box-shadow: 2pt 2pt 4pt #999;\n",
              "  /* unfitted */\n",
              "  background: var(--sklearn-color-unfitted-level-0);\n",
              "  border: .5pt solid var(--sklearn-color-unfitted-level-3);\n",
              "}\n",
              "\n",
              ".sk-estimator-doc-link.fitted span {\n",
              "  /* fitted */\n",
              "  background: var(--sklearn-color-fitted-level-0);\n",
              "  border: var(--sklearn-color-fitted-level-3);\n",
              "}\n",
              "\n",
              ".sk-estimator-doc-link:hover span {\n",
              "  display: block;\n",
              "}\n",
              "\n",
              "/* \"?\"-specific style due to the `<a>` HTML tag */\n",
              "\n",
              "#sk-container-id-3 a.estimator_doc_link {\n",
              "  float: right;\n",
              "  font-size: 1rem;\n",
              "  line-height: 1em;\n",
              "  font-family: monospace;\n",
              "  background-color: var(--sklearn-color-background);\n",
              "  border-radius: 1rem;\n",
              "  height: 1rem;\n",
              "  width: 1rem;\n",
              "  text-decoration: none;\n",
              "  /* unfitted */\n",
              "  color: var(--sklearn-color-unfitted-level-1);\n",
              "  border: var(--sklearn-color-unfitted-level-1) 1pt solid;\n",
              "}\n",
              "\n",
              "#sk-container-id-3 a.estimator_doc_link.fitted {\n",
              "  /* fitted */\n",
              "  border: var(--sklearn-color-fitted-level-1) 1pt solid;\n",
              "  color: var(--sklearn-color-fitted-level-1);\n",
              "}\n",
              "\n",
              "/* On hover */\n",
              "#sk-container-id-3 a.estimator_doc_link:hover {\n",
              "  /* unfitted */\n",
              "  background-color: var(--sklearn-color-unfitted-level-3);\n",
              "  color: var(--sklearn-color-background);\n",
              "  text-decoration: none;\n",
              "}\n",
              "\n",
              "#sk-container-id-3 a.estimator_doc_link.fitted:hover {\n",
              "  /* fitted */\n",
              "  background-color: var(--sklearn-color-fitted-level-3);\n",
              "}\n",
              "</style><div id=\"sk-container-id-3\" class=\"sk-top-container\"><div class=\"sk-text-repr-fallback\"><pre>LogisticRegression(n_jobs=-1, random_state=42)</pre><b>In a Jupyter environment, please rerun this cell to show the HTML representation or trust the notebook. <br />On GitHub, the HTML representation is unable to render, please try loading this page with nbviewer.org.</b></div><div class=\"sk-container\" hidden><div class=\"sk-item\"><div class=\"sk-estimator fitted sk-toggleable\"><input class=\"sk-toggleable__control sk-hidden--visually\" id=\"sk-estimator-id-3\" type=\"checkbox\" checked><label for=\"sk-estimator-id-3\" class=\"sk-toggleable__label fitted sk-toggleable__label-arrow fitted\">&nbsp;&nbsp;LogisticRegression<a class=\"sk-estimator-doc-link fitted\" rel=\"noreferrer\" target=\"_blank\" href=\"https://scikit-learn.org/1.5/modules/generated/sklearn.linear_model.LogisticRegression.html\">?<span>Documentation for LogisticRegression</span></a><span class=\"sk-estimator-doc-link fitted\">i<span>Fitted</span></span></label><div class=\"sk-toggleable__content fitted\"><pre>LogisticRegression(n_jobs=-1, random_state=42)</pre></div> </div></div></div></div>"
            ]
          },
          "metadata": {},
          "execution_count": 15
        }
      ]
    },
    {
      "cell_type": "markdown",
      "source": [
        "## Next we xtract coefficients by creating features then analyze the importance of each feature."
      ],
      "metadata": {
        "id": "N18jIDdwpHoP"
      }
    },
    {
      "cell_type": "markdown",
      "source": [
        "Feature Name Construction\n",
        "The code reconstructs feature names after preprocessing, including those generated through one-hot encoding for categorical variables.\n",
        "\n",
        "Model Coefficients\n",
        "It retrieves the coefficients from the trained Logistic Regression model to analyze the contribution of each feature to the predictions.\n",
        "\n",
        "Feature Importance\n",
        "By sorting the coefficients based on their absolute values, the code highlights the most influential features in the model, offering insights into the key factors driving the target variable.\n"
      ],
      "metadata": {
        "id": "bzX0VILMp2eW"
      }
    },
    {
      "cell_type": "code",
      "source": [
        "\n",
        "feature_names = []\n",
        "\n",
        "for col in numerical_cols:\n",
        "    feature_names.append(col)\n",
        "\n",
        "for col in categorical_cols:\n",
        "    categories = preprocessor.named_transformers_['cat']['onehot'].categories_[categorical_cols.get_loc(col)]\n",
        "    feature_names.extend([f\"{col}_{category}\" for category in categories])\n",
        "\n",
        "coefficients = model.coef_[0]\n",
        "\n",
        "importance_df = pd.DataFrame({\n",
        "    'Feature': feature_names,\n",
        "    'Coefficient': coefficients\n",
        "})\n",
        "\n",
        "importance_df['Abs_Coefficient'] = np.abs(importance_df['Coefficient'])\n",
        "importance_df = importance_df.sort_values(by='Abs_Coefficient', ascending=False)\n",
        "\n",
        "print(importance_df.head(20))"
      ],
      "metadata": {
        "colab": {
          "base_uri": "https://localhost:8080/"
        },
        "id": "oUweSOxlpOwF",
        "outputId": "592964ff-c062-4652-85a4-5e9803e5f536"
      },
      "execution_count": 16,
      "outputs": [
        {
          "output_type": "stream",
          "name": "stdout",
          "text": [
            "                                               Feature  Coefficient  \\\n",
            "256                       DEVICE_CONDITION_NO CONTROLS    -0.318587   \n",
            "250                 TRAFFIC_CONTROL_DEVICE_NO CONTROLS    -0.312541   \n",
            "452  LOCATION_POINT (-87.585945066953 41.744151639042)     0.300816   \n",
            "11                                   CRASH_DAY_OF_WEEK    -0.294536   \n",
            "272                             FIRST_CRASH_TYPE_ANGLE     0.285345   \n",
            "8                               INJURIES_NO_INDICATION     0.254969   \n",
            "283                           FIRST_CRASH_TYPE_TURNING     0.249495   \n",
            "15                                      CRASH_HOUR_sin     0.237472   \n",
            "319                                 DAMAGE_OVER $1,500     0.215492   \n",
            "20                                     CRASH_MONTH_cos     0.212613   \n",
            "12                                         CRASH_MONTH    -0.211625   \n",
            "318                               DAMAGE_$501 - $1,500    -0.194453   \n",
            "282          FIRST_CRASH_TYPE_SIDESWIPE SAME DIRECTION    -0.193910   \n",
            "10                                          CRASH_HOUR     0.186789   \n",
            "423        DATE_POLICE_NOTIFIED_12/09/2022 03:00:00 PM     0.182103   \n",
            "238                  CRASH_DATE_12/09/2022 09:30:00 AM     0.182103   \n",
            "55   CRASH_RECORD_ID_44828fc89be461507825bad5770b14...     0.182103   \n",
            "19                                     CRASH_MONTH_sin     0.180517   \n",
            "253              TRAFFIC_CONTROL_DEVICE_TRAFFIC SIGNAL     0.173753   \n",
            "278                          FIRST_CRASH_TYPE_REAR END    -0.169107   \n",
            "\n",
            "     Abs_Coefficient  \n",
            "256         0.318587  \n",
            "250         0.312541  \n",
            "452         0.300816  \n",
            "11          0.294536  \n",
            "272         0.285345  \n",
            "8           0.254969  \n",
            "283         0.249495  \n",
            "15          0.237472  \n",
            "319         0.215492  \n",
            "20          0.212613  \n",
            "12          0.211625  \n",
            "318         0.194453  \n",
            "282         0.193910  \n",
            "10          0.186789  \n",
            "423         0.182103  \n",
            "238         0.182103  \n",
            "55          0.182103  \n",
            "19          0.180517  \n",
            "253         0.173753  \n",
            "278         0.169107  \n"
          ]
        }
      ]
    },
    {
      "cell_type": "markdown",
      "source": [
        "\n",
        "Let's convert time-related features into a format that effectively represents their cyclic nature, which can enhance both the performance and interpretability of our machine learning models."
      ],
      "metadata": {
        "id": "brUJUsEkqLr3"
      }
    },
    {
      "cell_type": "code",
      "source": [
        "df['CRASH_HOUR_sin'] = np.sin(2 * np.pi * df['CRASH_HOUR'] / 24)\n",
        "df['CRASH_HOUR_cos'] = np.cos(2 * np.pi * df['CRASH_HOUR'] / 24)\n",
        "\n",
        "df['CRASH_DAY_OF_WEEK_sin'] = np.sin(2 * np.pi * df['CRASH_DAY_OF_WEEK'] / 7)\n",
        "df['CRASH_DAY_OF_WEEK_cos'] = np.cos(2 * np.pi * df['CRASH_DAY_OF_WEEK'] / 7)\n",
        "\n",
        "df['CRASH_MONTH_sin'] = np.sin(2 * np.pi * df['CRASH_MONTH'] / 12)\n",
        "df['CRASH_MONTH_cos'] = np.cos(2 * np.pi * df['CRASH_MONTH'] / 12)"
      ],
      "metadata": {
        "id": "UrsAhQAPqMd6"
      },
      "execution_count": 12,
      "outputs": []
    },
    {
      "cell_type": "markdown",
      "source": [
        "## Enhancing Model Predictive Power\n",
        "Additional engineered features can be integrated into the raw dataset to improve the model's ability to predict the primary contributory causes of traffic accidents by incorporating crucial contextual information.\n",
        "\n",
        "Features such as\n",
        "\n",
        "## Weekend:\n",
        "Traffic patterns during weekends often differ significantly from weekdays, influencing both the likelihood and types of crashes. Including a feature that identifies whether a crash occurred on a weekend allows the model to better distinguish between these patterns.\n",
        "\n",
        "## Speed Weather Interaction:\n",
        "The impact of speed limits on crashes can vary depending on weather conditions. For instance, high speed limits are particularly risky in adverse weather. This interaction feature enables the model to capture the relationship between speed and weather, improving predictive accuracy."
      ],
      "metadata": {
        "id": "SF_COL1bqvhU"
      }
    },
    {
      "cell_type": "code",
      "source": [
        "df['Speed_Weather_Interaction'] = df['POSTED_SPEED_LIMIT'] * df['WEATHER_CONDITION'].factorize()[0]\n",
        "df['Is_Weekend'] = df['CRASH_DAY_OF_WEEK'].apply(lambda x: 1 if x in [6, 7] else 0)"
      ],
      "metadata": {
        "id": "DK07tlF5rA6B"
      },
      "execution_count": 18,
      "outputs": []
    },
    {
      "cell_type": "markdown",
      "source": [
        "Let's analyze the frequency of causes to assess how closely each feature correlates with the target variable."
      ],
      "metadata": {
        "id": "PnJwPcSkrckW"
      }
    },
    {
      "cell_type": "code",
      "source": [
        "cause_counts = df['PRIM_CONTRIBUTORY_CAUSE'].value_counts()\n",
        "print(cause_counts)"
      ],
      "metadata": {
        "colab": {
          "base_uri": "https://localhost:8080/"
        },
        "id": "9MZIcGLUre8w",
        "outputId": "76056a9e-bdbd-4cfc-f598-8160257dcabf"
      },
      "execution_count": 19,
      "outputs": [
        {
          "output_type": "stream",
          "name": "stdout",
          "text": [
            "PRIM_CONTRIBUTORY_CAUSE\n",
            "UNABLE TO DETERMINE                                                                 5252\n",
            "FAILING TO YIELD RIGHT-OF-WAY                                                       1689\n",
            "FOLLOWING TOO CLOSELY                                                               1442\n",
            "NOT APPLICABLE                                                                       763\n",
            "IMPROPER OVERTAKING/PASSING                                                          744\n",
            "IMPROPER LANE USAGE                                                                  638\n",
            "IMPROPER BACKING                                                                     586\n",
            "DRIVING SKILLS/KNOWLEDGE/EXPERIENCE                                                  538\n",
            "FAILING TO REDUCE SPEED TO AVOID CRASH                                               526\n",
            "IMPROPER TURNING/NO SIGNAL                                                           483\n",
            "DISREGARDING TRAFFIC SIGNALS                                                         274\n",
            "WEATHER                                                                              242\n",
            "OPERATING VEHICLE IN ERRATIC, RECKLESS, CARELESS, NEGLIGENT OR AGGRESSIVE MANNER     176\n",
            "DISREGARDING STOP SIGN                                                               110\n",
            "EQUIPMENT - VEHICLE CONDITION                                                         99\n",
            "VISION OBSCURED (SIGNS, TREE LIMBS, BUILDINGS, ETC.)                                  97\n",
            "DISTRACTION - FROM INSIDE VEHICLE                                                     88\n",
            "PHYSICAL CONDITION OF DRIVER                                                          75\n",
            "DRIVING ON WRONG SIDE/WRONG WAY                                                       75\n",
            "UNDER THE INFLUENCE OF ALCOHOL/DRUGS (USE WHEN ARREST IS EFFECTED)                    69\n",
            "DISTRACTION - FROM OUTSIDE VEHICLE                                                    59\n",
            "ROAD ENGINEERING/SURFACE/MARKING DEFECTS                                              38\n",
            "EXCEEDING AUTHORIZED SPEED LIMIT                                                      33\n",
            "EXCEEDING SAFE SPEED FOR CONDITIONS                                                   33\n",
            "ROAD CONSTRUCTION/MAINTENANCE                                                         31\n",
            "DISREGARDING OTHER TRAFFIC SIGNS                                                      23\n",
            "EVASIVE ACTION DUE TO ANIMAL, OBJECT, NONMOTORIST                                     22\n",
            "DISREGARDING ROAD MARKINGS                                                            21\n",
            "CELL PHONE USE OTHER THAN TEXTING                                                     12\n",
            "TURNING RIGHT ON RED                                                                  12\n",
            "HAD BEEN DRINKING (USE WHEN ARREST IS NOT MADE)                                       12\n",
            "ANIMAL                                                                                 7\n",
            "DISTRACTION - OTHER ELECTRONIC DEVICE (NAVIGATION DEVICE, DVD PLAYER, ETC.)            6\n",
            "DISREGARDING YIELD SIGN                                                                4\n",
            "TEXTING                                                                                4\n",
            "BICYCLE ADVANCING LEGALLY ON RED LIGHT                                                 4\n",
            "RELATED TO BUS STOP                                                                    3\n",
            "OBSTRUCTED CROSSWALKS                                                                  2\n",
            "PASSING STOPPED SCHOOL BUS                                                             1\n",
            "Name: count, dtype: int64\n"
          ]
        }
      ]
    }
  ],
  "metadata": {
    "kernelspec": {
      "display_name": "learn-env",
      "language": "python",
      "name": "python3"
    },
    "language_info": {
      "codemirror_mode": {
        "name": "ipython",
        "version": 3
      },
      "file_extension": ".py",
      "mimetype": "text/x-python",
      "name": "python",
      "nbconvert_exporter": "python",
      "pygments_lexer": "ipython3",
      "version": "3.8.12"
    },
    "colab": {
      "provenance": []
    }
  },
  "nbformat": 4,
  "nbformat_minor": 0
}